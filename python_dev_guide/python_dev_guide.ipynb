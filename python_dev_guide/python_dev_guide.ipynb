{
 "cells": [
  {
   "cell_type": "markdown",
   "metadata": {
    "cell_id": "4273a36e-32c4-47f3-b573-d68092d4ed7a",
    "deepnote_app_coordinates": {
     "h": 5,
     "w": 12,
     "x": 0,
     "y": 114
    },
    "deepnote_cell_height": 125.703125,
    "deepnote_cell_type": "markdown",
    "tags": []
   },
   "source": [
    "<div align=\"center\">\n",
    "    <img width=\"300\" src=\"../_assets/images/logo_purple.png\" alt=\"Kinetica Logo\"/>\n",
    "</div>\n",
    "\n"
   ]
  },
  {
   "cell_type": "markdown",
   "metadata": {
    "cell_id": "210c8d32-abf1-4145-ac8e-944ca04edb2e",
    "deepnote_app_coordinates": {
     "h": 5,
     "w": 12,
     "x": 0,
     "y": null
    },
    "deepnote_cell_height": 201.5625,
    "deepnote_cell_type": "markdown"
   },
   "source": [
    "# Python developer guide\n",
    "The following guide provides step-by-step instructions to get started writing Python applications using Kinetica. This guide demonstrates only a small set of the available API. A detailed description of the complete interface is available under [Python API Reference](https://docs.kinetica.com/7.1/api/python/).\n",
    "\n",
    "Go ahead and duplicate this notebook to run this on your own.\n",
    "\n",
    "\n"
   ]
  },
  {
   "cell_type": "markdown",
   "metadata": {
    "cell_id": "52e94027-f150-4d4a-8c02-eeaa1146451e",
    "deepnote_app_coordinates": {
     "h": 5,
     "w": 12,
     "x": 0,
     "y": 108
    },
    "deepnote_cell_height": 388.296875,
    "deepnote_cell_type": "markdown",
    "tags": []
   },
   "source": [
    "## Before you start\n",
    "**Using deepnote**: You can duplicate this notebook to run it on your own.\n",
    "\n",
    "**Install Kinetica**: You will need an instance of Kinetica that you can point to.\n",
    "\n",
    "**Match the gpudb package version to your instance**: The version of gpudb package in your requirements.txt file needs to match the version of your instance of Kinetica. The package version should match upto the second level of a release. For instance, if you are running a 7.1.5.8 version of Kinetica, then the corresponding python package should be `gpudb==7.1.5.0`. \n",
    "\n",
    "To update the requirements, simply open up the requirements.txt file in the side panel and update it. Once it is updated, you will need to reinitialize your environment. To do this go to the environment tab on the left pane (the one below the folder icon) and run the init.ipynb notebook.\n",
    "\n",
    "**If you run into issues**: Ask a question in our [community slack channel](https://join.slack.com/t/kinetica-community/shared_invite/zt-13ynqf304-bxuI_JKd9bW1BXny~Ze1QQ) and we will get back to you immediately. "
   ]
  },
  {
   "cell_type": "code",
   "execution_count": null,
   "metadata": {
    "cell_id": "00001-60985094-6d42-4702-957a-501e116957a9",
    "deepnote_app_coordinates": {
     "h": 5,
     "w": 12,
     "x": 0,
     "y": 6
    },
    "deepnote_cell_height": 153,
    "deepnote_cell_type": "code",
    "deepnote_to_be_reexecuted": false,
    "execution_millis": 1,
    "execution_start": 1647575378218,
    "source_hash": "196f394b"
   },
   "outputs": [],
   "source": [
    "import gpudb\n",
    "import collections\n",
    "import json\n",
    "import csv\n",
    "import pandas as pd"
   ]
  },
  {
   "cell_type": "markdown",
   "metadata": {
    "cell_id": "0efe1786-95d8-40fd-88b0-d489de71c5f6",
    "deepnote_app_coordinates": {
     "h": 5,
     "w": 12,
     "x": 0,
     "y": 42
    },
    "deepnote_cell_height": 108.390625,
    "deepnote_cell_type": "markdown",
    "tags": []
   },
   "source": [
    "## Connect to the database\n",
    "Update the connection details below with those for your database server to connect to it."
   ]
  },
  {
   "cell_type": "code",
   "execution_count": null,
   "metadata": {
    "cell_id": "00004-e09adbf4-202b-45f8-aa94-3c15b2758547",
    "deepnote_app_coordinates": {
     "h": 5,
     "w": 12,
     "x": 0,
     "y": 18
    },
    "deepnote_cell_height": 315,
    "deepnote_cell_type": "code",
    "deepnote_to_be_reexecuted": false,
    "execution_millis": 2,
    "execution_start": 1647575378222,
    "source_hash": "c07f3508"
   },
   "outputs": [],
   "source": [
    "# Update the credentials to match those for your server\n",
    "# options = gpudb.GPUdb.Options()\n",
    "# options.username = \"myusername\"\n",
    "# options.password = \"mysecret\"\n",
    "\n",
    "# update the host to match your instance\n",
    "# h_db = gpudb.GPUdb(\n",
    "#   host=[\"<REPLACE WITH YOUR HOST URL\"],\n",
    "#   options = options\n",
    "# )\n",
    "\n",
    "\n",
    "# exec_result = h_db.show_system_status()['status_map']['system']\n",
    "# print(exec_result)"
   ]
  },
  {
   "cell_type": "code",
   "execution_count": null,
   "metadata": {
    "cell_id": "ab106971-cbfb-4b96-a4b3-160b24750e05",
    "deepnote_app_coordinates": {
     "h": 5,
     "w": 12,
     "x": 0,
     "y": 0
    },
    "deepnote_cell_height": 225,
    "deepnote_cell_type": "code",
    "deepnote_to_be_reexecuted": false,
    "execution_millis": 91,
    "execution_start": 1647575378231,
    "source_hash": "b37748e8",
    "tags": []
   },
   "outputs": [],
   "source": [
    "# THIS WILL BE DELETED BEFORE NOTEBOOK IS MADE PUBLIC\n",
    "options = gpudb.GPUdb.Options()\n",
    "options.username = \"kadmin\"\n",
    "options.password = \"KineticaDemo123!\"\n",
    "\n",
    "h_db = gpudb.GPUdb(\n",
    "  host=[\"https://mbrown-102521-euisfp7czn2h4.eastus2.cloudapp.azure.com/mbrown-102521-euisfp7czn2h4/gpudb-0\"],\n",
    "  options = options\n",
    ")"
   ]
  },
  {
   "cell_type": "markdown",
   "metadata": {
    "cell_id": "1c902343-8b03-4235-8e83-fc5ebd0e167f",
    "deepnote_app_coordinates": {
     "h": 5,
     "w": 12,
     "x": 0,
     "y": 0
    },
    "deepnote_cell_height": 808.953125,
    "deepnote_cell_type": "markdown",
    "tags": []
   },
   "source": [
    "#### For Developer edition\n",
    "If you are using the developer edition of Kinetica the database is by default available on port 9191 on localhost (http://127.0.0.1:9191). If you are on an on-premise version of Kinetica, then go ahead and specify the connection URL for that server.\n",
    "\n",
    "#### For Kinetica on the cloud\n",
    "If you are using workbench (available on Azure and AWS at the moment) then you can use the connection details inside workbench to connect.\n",
    "\n",
    "![](images/connect_workbench.png)"
   ]
  },
  {
   "cell_type": "markdown",
   "metadata": {
    "cell_id": "5070495d-ee3e-4e15-83f6-f79901cf149f",
    "deepnote_app_coordinates": {
     "h": 5,
     "w": 12,
     "x": 0,
     "y": 60
    },
    "deepnote_cell_height": 153.171875,
    "deepnote_cell_type": "markdown",
    "tags": []
   },
   "source": [
    "## Creating a Schema\n",
    "All [tables](https://docs.kinetica.com/7.1/concepts/tables/) & [views](https://docs.kinetica.com/7.1/concepts/views/) are placed in a schema. Tables and views that are created without specifying a schema will be placed in the default schema of `ki_home`. We will use the schema `python_dev_guide` to manage all the tables and views for this guide. We can create a schema using [`create_schema()`](https://docs.kinetica.com/7.1/api/python/?source/gpudbtable.html#gpudb.GPUdbTable.create_join_table)."
   ]
  },
  {
   "cell_type": "code",
   "execution_count": null,
   "metadata": {
    "cell_id": "61547a22-37cb-485d-98d1-6d6f1a19ca2e",
    "deepnote_app_coordinates": {
     "h": 5,
     "w": 12,
     "x": 0,
     "y": 54
    },
    "deepnote_cell_height": 286.125,
    "deepnote_cell_type": "code",
    "deepnote_output_heights": [
     117.125
    ],
    "deepnote_to_be_reexecuted": false,
    "execution_millis": 62,
    "execution_start": 1647575378368,
    "source_hash": "cc9096ef",
    "tags": []
   },
   "outputs": [
    {
     "data": {
      "text/plain": [
       "{'schema_name': 'python_dev_guide',\n",
       " 'info': {},\n",
       " 'status_info': {'status': 'OK',\n",
       "  'message': '',\n",
       "  'data_type': 'create_schema_response',\n",
       "  'response_time': 0.01355}}"
      ]
     },
     "execution_count": 76,
     "metadata": {},
     "output_type": "execute_result"
    }
   ],
   "source": [
    "# Delete the schema and component tables (cascade true) so that we start with a clean slate\n",
    "h_db.drop_schema(\"python_dev_guide\", options={\"no_error_if_not_exists\": True, \"cascade\": True})\n",
    "\n",
    "# Create the schema\n",
    "h_db.create_schema(\"python_dev_guide\", options={\"no_error_if_exists\": True})"
   ]
  },
  {
   "cell_type": "markdown",
   "metadata": {
    "cell_id": "c3f56100-ad06-45e6-a0eb-49cdcc928bde",
    "deepnote_app_coordinates": {
     "h": 5,
     "w": 12,
     "x": 0,
     "y": 66
    },
    "deepnote_cell_height": 456.46875,
    "deepnote_cell_type": "markdown",
    "tags": []
   },
   "source": [
    "## Creating a Type\n",
    "Kinetica has a robust type inferencing system that can automatically infer the data types of different columns in a table that is being loaded into it. However, it is always best practice to explicitly define the types for a table before data is loaded. \n",
    "\n",
    "A [type](https://docs.kinetica.com/7.1/concepts/types/) is the column definition for the table. Each column comprises at least two values: a column name (always the first value) and a base type (always the second value). Any subsequent values are column properties. You can also use the [GPUdbRecordColumn](https://docs.kinetica.com/7.1/api/python/?source/gpudbrecordcolumn.html) and [GPUdbColumnProperty](https://docs.kinetica.com/7.1/api/python/?source/gpudbcolumnproperty.html) objects in addition to literal string values to help define a column. The following column type constants are available in [GPUdbRecordColumn](https://docs.kinetica.com/7.1/api/python/?source/gpudbrecordcolumn.html):\n",
    "\n",
    "- _ColumnType.INT\n",
    "- _ColumnType.LONG\n",
    "- _ColumnType.FLOAT\n",
    "- _ColumnType.DOUBLE\n",
    "- _ColumnType.STRING\n",
    "- _ColumnType.BYTES"
   ]
  },
  {
   "cell_type": "markdown",
   "metadata": {
    "cell_id": "52b3cc40-1bd4-4bcc-aadb-11dd7be815a1",
    "deepnote_app_coordinates": {
     "h": 5,
     "w": 12,
     "x": 0,
     "y": 84
    },
    "deepnote_cell_height": 750.59375,
    "deepnote_cell_type": "markdown",
    "tags": []
   },
   "source": [
    "## Table distribution\n",
    "Kinetica is a distributed databases. Any table can be distributed across the Kinetica cluster using one of two schemes - [sharding](https://docs.kinetica.com/7.1/azure/concepts/tables/#sharding) or [replication](https://docs.kinetica.com/7.1/azure/concepts/tables/#replication). \n",
    "\n",
    "Sharding is a fundamental aspect of most distributed databases. It is performed by hashing a particular value for a record ([shard key](https://docs.kinetica.com/7.1/azure/concepts/tables/#shard-key)) to determine its location in the cluster. If a shard key is not specified but the table has a primary key, then the primary key becomes the default shard key. In the absence of both a shard key, a primary key and if the table is not specified as replicated, the table is randomly sharded and distributed across the cluster.\n",
    "\n",
    "When done correctly, sharding has the benefit of dramatically increasing performance by distributing queries across the cluster. A limitation with sharding however, is that two sharded datasets can only be joined if they are sharded in the same way i.e. the records with the same values in both the tables are colocated.\n",
    "\n",
    "Tables can also be replicated so that it available on every cluster node. The benefit of replication is that it allows data sets to be joined together when those data sets are not sharded on the columns being associated. Since making copies of the same table has storage costs, it is best and more common to replicate smaller tables. So for instance, in this guide, we replicate the vendors table.\n",
    "\n",
    "## Creating Tables\n",
    "After you've created a [type](https://docs.kinetica.com/7.1/concepts/types/) list and stored it in a variable, you can create a [table](https://docs.kinetica.com/7.1/concepts/tables/) using the [GPUdbTable](https://docs.kinetica.com/7.1/api/python/?source/gpudbtable.html) interface. \n",
    "\n",
    "We will use three tables for this tuturial (the table distribution scheme is noted in brackets):\n",
    "\n",
    "- A lookup table containing sample cab vendor information (replicated)\n",
    "- A 1-to-1 relation table containing payment information for a subset of the cab-ride transactions (sharded on primary key `payment_id`)\n",
    "- A base table containing a sample of NYC taxi cab ride data (sharded on `payment_id`)"
   ]
  },
  {
   "cell_type": "markdown",
   "metadata": {
    "cell_id": "23d968e5-328d-4b36-bf60-0df4155be9ca",
    "deepnote_app_coordinates": {
     "h": 5,
     "w": 12,
     "x": 0,
     "y": 78
    },
    "deepnote_cell_height": 169.5625,
    "deepnote_cell_type": "markdown",
    "tags": []
   },
   "source": [
    "> #### Important\n",
    "> The order of the columns defines the order in which values must be inserted into the table; e.g., a `vendor_name` value must be inserted to the immediate right of the `vendor_id` value when using list-based insert methods--map-based insert methods will match the value with the correct column regardless of order.\n",
    "\n"
   ]
  },
  {
   "cell_type": "code",
   "execution_count": null,
   "metadata": {
    "cell_id": "f2930dcd-3bf2-4cc0-9fb5-5c107388fe81",
    "deepnote_app_coordinates": {
     "h": 5,
     "w": 12,
     "x": 0,
     "y": 90
    },
    "deepnote_cell_height": 994.1875,
    "deepnote_cell_type": "code",
    "deepnote_to_be_reexecuted": false,
    "execution_millis": 224,
    "execution_start": 1647575378430,
    "source_hash": "2f3daec3",
    "tags": []
   },
   "outputs": [
    {
     "name": "stdout",
     "output_type": "stream",
     "text": [
      "Vendor table successfully created\n"
     ]
    }
   ],
   "source": [
    "# Create a type from a list of lists. Each list below is an individual\n",
    "# column. Each column comprises at least two values: a column name (always\n",
    "# the first value) and a base type (always the second value). Any\n",
    "# subsequent values are column properties. The order of the columns defines\n",
    "# the order in which values must be inserted into the table, e.g., a\n",
    "# \"vendor_name\" value cannot be inserted before a \"vendor_id\" value\n",
    "vendor_columns = [\n",
    "    # column types and properties can be listed as strings\n",
    "    [\"vendor_id\", \"string\", \"char4\", \"primary_key\"],\n",
    "    [\"vendor_name\", \"string\", \"char64\"],\n",
    "    [\"phone\", \"string\", \"char16\", \"nullable\"],\n",
    "    [\"email\", \"string\", \"char64\", \"nullable\"],\n",
    "    [\"hq_street\", \"string\", \"char64\"],\n",
    "    # column types and properties can also be listed using the\n",
    "    # GPUdbRecordColumn and GPUdbColumnProperty objects\n",
    "    [\n",
    "        \"hq_city\",\n",
    "        gpudb.GPUdbRecordColumn._ColumnType.STRING,\n",
    "        gpudb.GPUdbColumnProperty.CHAR8,\n",
    "        gpudb.GPUdbColumnProperty.DICT\n",
    "    ],\n",
    "    [\n",
    "        \"hq_state\",\n",
    "        gpudb.GPUdbRecordColumn._ColumnType.STRING,\n",
    "        gpudb.GPUdbColumnProperty.CHAR8,\n",
    "        gpudb.GPUdbColumnProperty.DICT\n",
    "    ],\n",
    "    [\"hq_zip\", gpudb.GPUdbRecordColumn._ColumnType.INT],\n",
    "    [\"num_emps\", gpudb.GPUdbRecordColumn._ColumnType.INT],\n",
    "    [\"num_cabs\", gpudb.GPUdbRecordColumn._ColumnType.INT]\n",
    "]\n",
    "\n",
    "# Clear any existing table with the same name\n",
    "h_db.clear_table(\n",
    "    table_name=\"python_dev_guide.taxi_vendors\", \n",
    "    options={\"no_error_if_not_exists\": True}\n",
    "    )\n",
    "\n",
    "\n",
    "# Create the table from the type and place it in a schema\n",
    "try:\n",
    "    table_vendor_obj = gpudb.GPUdbTable(\n",
    "        _type=vendor_columns,\n",
    "        name=\"python_dev_guide.taxi_vendors\",\n",
    "        options={\"is_replicated\": \"true\"},\n",
    "        db=h_db\n",
    "    )\n",
    "    print(\"Vendor table successfully created\")\n",
    "except gpudb.GPUdbException as e:\n",
    "    print(\"Vendor table creation failure: {}\".format(str(e)))"
   ]
  },
  {
   "cell_type": "markdown",
   "metadata": {
    "cell_id": "be753de1-cf05-4d2a-a01c-9a49f3257d7c",
    "deepnote_app_coordinates": {
     "h": 5,
     "w": 12,
     "x": 0,
     "y": 96
    },
    "deepnote_cell_height": 131.171875,
    "deepnote_cell_type": "markdown",
    "tags": []
   },
   "source": [
    "To pass in table creation options, you can either specify a Python map, as above, or you can use the [GPUdbTableOptions](https://docs.kinetica.com/7.1/api/python/?source/gpudbtableoptions.html) object instead:\n",
    "\n",
    "```python\n",
    "creation_options = gpudb.GPUdbTableOptions.default().is_replicated(True)\n",
    "```"
   ]
  },
  {
   "cell_type": "markdown",
   "metadata": {
    "cell_id": "e7d8a6c9-de96-4c7c-a7b2-a4f9f06a7792",
    "deepnote_app_coordinates": {
     "h": 5,
     "w": 12,
     "x": 0,
     "y": 0
    },
    "deepnote_cell_height": 52.390625,
    "deepnote_cell_type": "markdown",
    "tags": []
   },
   "source": [
    "Let's create a payments and taxi_trip_data table as well. These follow the same steps as above."
   ]
  },
  {
   "cell_type": "code",
   "execution_count": null,
   "metadata": {
    "cell_id": "ce894e18-aea6-4754-848e-19fb3428d920",
    "deepnote_app_coordinates": {
     "h": 5,
     "w": 12,
     "x": 0,
     "y": 0
    },
    "deepnote_cell_height": 616.1875,
    "deepnote_cell_type": "code",
    "deepnote_to_be_reexecuted": false,
    "execution_millis": 172,
    "execution_start": 1647575378653,
    "source_hash": "dc6aa42",
    "tags": []
   },
   "outputs": [
    {
     "name": "stdout",
     "output_type": "stream",
     "text": [
      "Payment table successfully created\n"
     ]
    }
   ],
   "source": [
    "payment_columns = [\n",
    "    [\"payment_id\", \"long\", \"primary_key\"],\n",
    "    [\"payment_type\", \"string\", \"char16\", \"nullable\"],\n",
    "    [\"credit_type\", \"string\", \"char16\", \"nullable\"],\n",
    "    [\"payment_timestamp\", \"long\", \"timestamp\", \"nullable\"],\n",
    "    [\"fare_amount\", \"double\", \"nullable\"],\n",
    "    [\"surcharge\", \"double\", \"nullable\"],\n",
    "    [\"mta_tax\", \"double\", \"nullable\"],\n",
    "    [\"tip_amount\", \"double\", \"nullable\"],\n",
    "    [\"tolls_amount\", \"double\", \"nullable\"],\n",
    "    [\"total_amount\", \"double\", \"nullable\"]\n",
    "]\n",
    "\n",
    "# Clear any existing table with the same name\n",
    "h_db.clear_table(\n",
    "    table_name=\"python_dev_guide.payments\", \n",
    "    options={\"no_error_if_not_exists\": True}\n",
    "    )\n",
    "\n",
    "# Create the table from the type and place it in a schema\n",
    "try:\n",
    "    table_payment_obj = gpudb.GPUdbTable(\n",
    "        _type=payment_columns,\n",
    "        name=\"python_dev_guide.payments\",\n",
    "        db=h_db\n",
    "    )\n",
    "    print(\"Payment table successfully created\")\n",
    "except gpudb.GPUdbException as e:\n",
    "    print(\"Payment table creation failure: {}\".format(str(e)))"
   ]
  },
  {
   "cell_type": "code",
   "execution_count": null,
   "metadata": {
    "cell_id": "027e7ee7-5297-40b0-9b62-06d63ecdac31",
    "deepnote_app_coordinates": {
     "h": 5,
     "w": 12,
     "x": 0,
     "y": 0
    },
    "deepnote_cell_height": 652.1875,
    "deepnote_cell_type": "code",
    "deepnote_to_be_reexecuted": false,
    "execution_millis": 130,
    "execution_start": 1647575378823,
    "source_hash": "ae0ef49d",
    "tags": []
   },
   "outputs": [
    {
     "name": "stdout",
     "output_type": "stream",
     "text": [
      "Taxi table object successfully created\n"
     ]
    }
   ],
   "source": [
    "taxi_columns = [\n",
    "    [\"transaction_id\", \"long\", \"primary_key\"],\n",
    "    [\"payment_id\", \"long\", \"primary_key\", \"shard_key\"],\n",
    "    [\"vendor_id\", \"string\", \"char4\"],\n",
    "    [\"pickup_datetime\", \"long\", \"timestamp\"],\n",
    "    [\"dropoff_datetime\", \"long\", \"timestamp\"],\n",
    "    [\"passenger_count\", \"int\", \"int8\"],\n",
    "    [\"trip_distance\", \"float\"],\n",
    "    [\"pickup_longitude\", \"float\"],\n",
    "    [\"pickup_latitude\", \"float\"],\n",
    "    [\"dropoff_longitude\", \"float\"],\n",
    "    [\"dropoff_latitude\", \"float\"]\n",
    "]\n",
    "\n",
    "# Clear any existing table with the same name (otherwise we won't be able\n",
    "# to create the table)\n",
    "h_db.clear_table(\n",
    "    table_name=\"python_dev_guide.taxi_trips\", \n",
    "    options={\"no_error_if_not_exists\": True}\n",
    "    )\n",
    "\n",
    "# Create the table from the type and place it in a schema\n",
    "try:\n",
    "    table_taxi_obj = gpudb.GPUdbTable(\n",
    "        _type=taxi_columns,\n",
    "        name=\"python_dev_guide.taxi_trips\",\n",
    "        db=h_db\n",
    "    )\n",
    "    print(\"Taxi table object successfully created\")\n",
    "except gpudb.GPUdbException as e:\n",
    "    print(\"Taxi table object creation failure: {}\".format(str(e)))"
   ]
  },
  {
   "cell_type": "markdown",
   "metadata": {
    "cell_id": "00005-642d98c6-7f22-4fc5-8093-fcb3931b49d5",
    "deepnote_app_coordinates": {
     "h": 5,
     "w": 12,
     "x": 0,
     "y": 24
    },
    "deepnote_cell_height": 70,
    "deepnote_cell_type": "markdown"
   },
   "source": [
    "## Load data into tables"
   ]
  },
  {
   "cell_type": "markdown",
   "metadata": {
    "cell_id": "43dde9e0-971b-4915-abfa-8cfbc4246313",
    "deepnote_app_coordinates": {
     "h": 5,
     "w": 12,
     "x": 0,
     "y": 0
    },
    "deepnote_cell_height": 205.953125,
    "deepnote_cell_type": "markdown",
    "tags": []
   },
   "source": [
    "Next let's explore adding some data into these tables using the [`insert_records()`](https://docs.kinetica.com/7.1/api/python/?source/gpudbtable.html#gpudb.GPUdbTable.insert_records) method. We will first add a single row of data, followed by multiple records and then finally we will see how to load data from a CSV file.\n",
    "\n",
    "> #### Note \n",
    "> Running the same insert multiple times will not add duplicate rows since each table has an associated primary key."
   ]
  },
  {
   "cell_type": "markdown",
   "metadata": {
    "cell_id": "b97a47f8-24db-476a-820b-2438e71d5bd6",
    "deepnote_app_coordinates": {
     "h": 5,
     "w": 12,
     "x": 0,
     "y": 0
    },
    "deepnote_cell_height": 62,
    "deepnote_cell_type": "markdown",
    "tags": []
   },
   "source": [
    "### Load single Key/Value records"
   ]
  },
  {
   "cell_type": "code",
   "execution_count": null,
   "metadata": {
    "cell_id": "60f646df-855a-4644-977b-2dba64cf5d8a",
    "deepnote_app_coordinates": {
     "h": 5,
     "w": 12,
     "x": 0,
     "y": 0
    },
    "deepnote_cell_height": 472.1875,
    "deepnote_cell_type": "code",
    "deepnote_to_be_reexecuted": false,
    "execution_millis": 94,
    "execution_start": 1647575378956,
    "source_hash": "a7159a8f",
    "tags": []
   },
   "outputs": [
    {
     "name": "stdout",
     "output_type": "stream",
     "text": [
      "Number of records inserted into the Payment table: 1\n"
     ]
    }
   ],
   "source": [
    "# The number of rows in the payment table \n",
    "payment_table_size_before_insert = table_payment_obj.size()\n",
    "\n",
    "# Create ordered dictionary for keys & values of record\n",
    "payment_datum = collections.OrderedDict()\n",
    "payment_datum[\"payment_id\"] = 189\n",
    "payment_datum[\"payment_type\"] = \"No Charge\"\n",
    "payment_datum[\"credit_type\"] = None\n",
    "payment_datum[\"payment_timestamp\"] = None\n",
    "payment_datum[\"fare_amount\"] = 6.5\n",
    "payment_datum[\"surcharge\"] = 0\n",
    "payment_datum[\"mta_tax\"] = 0.6\n",
    "payment_datum[\"tip_amount\"] = 0\n",
    "payment_datum[\"tolls_amount\"] = 0\n",
    "payment_datum[\"total_amount\"] = 7.1\n",
    "\n",
    "# Insert the record into the table\n",
    "table_payment_obj.insert_records(payment_datum)\n",
    "print(\"Number of records inserted into the Payment table: {}\".format(\n",
    "    table_payment_obj.size() - payment_table_size_before_insert\n",
    "))"
   ]
  },
  {
   "cell_type": "markdown",
   "metadata": {
    "cell_id": "34dd237b-c4ce-4051-85ee-c7f4cf74a790",
    "deepnote_app_coordinates": {
     "h": 5,
     "w": 12,
     "x": 0,
     "y": 0
    },
    "deepnote_cell_height": 62,
    "deepnote_cell_type": "markdown",
    "tags": []
   },
   "source": [
    "### Multiple in-line records"
   ]
  },
  {
   "cell_type": "markdown",
   "metadata": {
    "cell_id": "ccb38838-3cc1-4c6f-a92b-036d7de98beb",
    "deepnote_app_coordinates": {
     "h": 5,
     "w": 12,
     "x": 0,
     "y": 0
    },
    "deepnote_cell_height": 52.390625,
    "deepnote_cell_type": "markdown",
    "tags": []
   },
   "source": [
    "The next two blocks of code add multiple records to the payment and vendor tables."
   ]
  },
  {
   "cell_type": "code",
   "execution_count": null,
   "metadata": {
    "cell_id": "3cc1f23f-adfe-4028-92f1-42efa9808055",
    "deepnote_app_coordinates": {
     "h": 5,
     "w": 12,
     "x": 0,
     "y": 0
    },
    "deepnote_cell_height": 598.1875,
    "deepnote_cell_type": "code",
    "deepnote_to_be_reexecuted": false,
    "execution_millis": 189,
    "execution_start": 1647575379061,
    "source_hash": "135acdf6",
    "tags": []
   },
   "outputs": [
    {
     "name": "stdout",
     "output_type": "stream",
     "text": [
      "Number of records inserted into the Vendor table: 8\n"
     ]
    }
   ],
   "source": [
    "vendor_table_size_before_insert = table_vendor_obj.size()\n",
    "# Create a list of in-line records. The order of the values must match the column order in the type\n",
    "vendor_records = [\n",
    "    [\"VTS\", \"Vine Taxi Service\", \"9998880001\", \"admin@vtstaxi.com\",\n",
    "        \"26 Summit St.\", \"Flushing\", \"NY\", 11354, 450, 400],\n",
    "    [\"YCAB\", \"Yes Cab\", \"7895444321\", None, \"97 Edgemont St.\", \"Brooklyn\",\n",
    "        \"NY\", 11223, 445, 425],\n",
    "    [\"NYC\", \"New York City Cabs\", None, \"support@nyc-taxis.com\",\n",
    "        \"9669 East Bayport St.\", \"Bronx\", \"NY\", 10453, 505, 500],\n",
    "    [\"DDS\", \"Dependable Driver Service\", None, None,\n",
    "        \"8554 North Homestead St.\", \"Bronx\", \"NY\", 10472, 200, 124],\n",
    "    [\"CMT\", \"Crazy Manhattan Taxi\", \"9778896500\",\n",
    "        \"admin@crazymanhattantaxi.com\", \"950 4th Road Suite 78\", \"Brooklyn\",\n",
    "        \"NY\", 11210, 500, 468],\n",
    "    [\"TNY\", \"Taxi New York\", None, None, \"725 Squaw Creek St.\", \"Bronx\",\n",
    "        \"NY\", 10458, 315, 305],\n",
    "    [\"NYMT\", \"New York Metro Taxi\", None, None, \"4 East Jennings St.\",\n",
    "        \"Brooklyn\", \"NY\", 11228, 166, 150],\n",
    "    [\"5BTC\", \"Five Boroughs Taxi Co.\", \"4566541278\", \"mgmt@5btc.com\",\n",
    "        \"9128 Lantern Street\", \"Brooklyn\", \"NY\", 11229, 193, 175]\n",
    "]\n",
    "\n",
    "# Insert the records into the Vendor table\n",
    "table_vendor_obj.insert_records(vendor_records)\n",
    "\n",
    "print(\"Number of records inserted into the Vendor table: {}\".format(\n",
    "    table_vendor_obj.size() - vendor_table_size_before_insert\n",
    "))"
   ]
  },
  {
   "cell_type": "code",
   "execution_count": null,
   "metadata": {
    "cell_id": "7218d68f-6c54-4462-8b83-9908064b963c",
    "deepnote_app_coordinates": {
     "h": 5,
     "w": 12,
     "x": 0,
     "y": 0
    },
    "deepnote_cell_height": 760.1875,
    "deepnote_cell_type": "code",
    "deepnote_to_be_reexecuted": false,
    "execution_millis": 844,
    "execution_start": 1647575379250,
    "source_hash": "972b0738",
    "tags": []
   },
   "outputs": [
    {
     "name": "stdout",
     "output_type": "stream",
     "text": [
      "Number of records inserted into the Payment table: 25\n"
     ]
    }
   ],
   "source": [
    "payment_table_size_before_insert = table_payment_obj.size()\n",
    "# Create another list of in-line records\n",
    "payment_records = [\n",
    "    [136, \"Cash\", None, 1428716521000, 4, 0.5, 0.5, 1, 0, 6.3],\n",
    "    [148, \"Cash\", None, 1430124581000, 9.5, 0, 0.5, 1, 0, 11.3],\n",
    "    [114, \"Cash\", None, 1428259673000, 5.5, 0, 0.5, 1.89, 0, 8.19],\n",
    "    [180, \"Cash\", None, 1428965823000, 6.5, 0.5, 0.5, 1, 0, 8.8],\n",
    "    [109, \"Cash\", None, 1428948513000, 22.5, 0.5, 0.5, 4.75, 0, 28.55],\n",
    "    [132, \"Cash\", None, 1429472779000, 6.5, 0.5, 0.5, 1.55, 0, 9.35],\n",
    "    [134, \"Cash\", None, 1429472668000, 33.5, 0.5, 0.5, 0, 0, 34.8],\n",
    "    [176, \"Cash\", None, 1428403962000, 9, 0.5, 0.5, 2.06, 0, 12.36],\n",
    "    [100, \"Cash\", None, None, 9, 0, 0.5, 2.9, 0, 12.7],\n",
    "    [193, \"Cash\", None, None, 3.5, 1, 0.5, 1.59, 0, 6.89],\n",
    "    [140, \"Credit\", \"Visa\", None, 28, 0, 0.5, 0, 0, 28.8],\n",
    "    [161, \"Credit\", \"Visa\", None, 7, 0, 0.5, 0, 0, 7.8],\n",
    "    [199, \"Credit\", \"Visa\", None, 6, 1, 0.5, 1, 0, 8.5],\n",
    "    [159, \"Credit\", \"Visa\", 1428674487000, 7, 0, 0.5, 0, 0, 7.8],\n",
    "    [156, \"Credit\", \"MasterCard\", 1428672753000, 12.5, 0.5, 0.5, 0, 0, 13.8],\n",
    "    [198, \"Credit\", \"MasterCard\", 1429472636000, 9, 0, 0.5, 0, 0, 9.8],\n",
    "    [107, \"Credit\", \"MasterCard\", 1428717377000, 5, 0.5, 0.5, 0, 0, 6.3],\n",
    "    [166, \"Credit\", \"American Express\", 1428808723000, 17.5, 0, 0.5, 0, 0, 18.3],\n",
    "    [187, \"Credit\", \"American Express\", 1428670181000, 14, 0, 0.5, 0, 0, 14.8],\n",
    "    [125, \"Credit\", \"Discover\", 1429869673000, 8.5, 0.5, 0.5, 0, 0, 9.8],\n",
    "    [119, None, None, 1430431471000, 9.5, 0, 0.5, 0, 0, 10.3],\n",
    "    [150, None, None, 1430432447000, 7.5, 0, 0.5, 0, 0, 8.3],\n",
    "    [170, \"No Charge\", None, 1430431502000, 28.6, 0, 0.5, 0, 0, 28.6],\n",
    "    [123, \"No Charge\", None, 1430136649000, 20, 0.5, 0.5, 0, 0, 21.3],\n",
    "    [181, None, None, 1430135461000, 6.5, 0.5, 0.5, 0, 0, 7.8]\n",
    "]\n",
    "\n",
    "# Insert the records into the Payment table\n",
    "for record in payment_records:\n",
    "    table_payment_obj.insert_records(record)\n",
    "\n",
    "print(\"Number of records inserted into the Payment table: {}\".format(\n",
    "    table_payment_obj.size() - payment_table_size_before_insert\n",
    "))"
   ]
  },
  {
   "cell_type": "markdown",
   "metadata": {
    "cell_id": "83d317d5-4744-4aaa-bd70-f32a54355cbd",
    "deepnote_app_coordinates": {
     "h": 5,
     "w": 12,
     "x": 0,
     "y": 0
    },
    "deepnote_cell_height": 62,
    "deepnote_cell_type": "markdown",
    "tags": []
   },
   "source": [
    "### Load from a CSV file"
   ]
  },
  {
   "cell_type": "markdown",
   "metadata": {
    "cell_id": "491b8620-f39f-4b5f-974c-a90c51ac91dc",
    "deepnote_app_coordinates": {
     "h": 5,
     "w": 12,
     "x": 0,
     "y": 48
    },
    "deepnote_cell_height": 52.390625,
    "deepnote_cell_type": "markdown",
    "tags": []
   },
   "source": [
    "Let's upload all the data from the taxi_trip_data.csv file to the table_taxi"
   ]
  },
  {
   "cell_type": "code",
   "execution_count": null,
   "metadata": {
    "cell_id": "66cd1eb4-9011-4342-a247-ac8161d43a13",
    "deepnote_app_coordinates": {
     "h": 5,
     "w": 12,
     "x": 0,
     "y": 0
    },
    "deepnote_cell_height": 580.1875,
    "deepnote_cell_type": "code",
    "deepnote_to_be_reexecuted": false,
    "execution_millis": 125,
    "execution_start": 1647575380003,
    "source_hash": "3b63ce6a",
    "tags": []
   },
   "outputs": [
    {
     "name": "stdout",
     "output_type": "stream",
     "text": [
      "Number of records inserted into the Taxi trip table: 500\n"
     ]
    }
   ],
   "source": [
    "taxi_table_size_before_insert = table_taxi_obj.size()\n",
    "\n",
    "with open('data/taxi_trip_data.csv') as csvfile:\n",
    "    taxi_data = csv.reader(csvfile, delimiter=',')\n",
    "    header = []\n",
    "    header = next(taxi_data)\n",
    "    taxi_records = []\n",
    "    for record in taxi_data:\n",
    "        record_data = []\n",
    "        record_data.append(int(record[0]))\n",
    "        record_data.append(int(record[1]))\n",
    "        record_data.append(record[2])\n",
    "        record_data.append(int(record[3]))\n",
    "        record_data.append(int(record[4]))\n",
    "        record_data.append(int(record[5]))\n",
    "        record_data.append(float(record[6]))\n",
    "        record_data.append(float(record[7]))\n",
    "        record_data.append(float(record[8]))\n",
    "        record_data.append(float(record[9]))\n",
    "        record_data.append(float(record[10]))\n",
    "        taxi_records.append(record_data)\n",
    "    table_taxi_obj.insert_records(taxi_records)\n",
    "\n",
    "\n",
    "print(\"Number of records inserted into the Taxi trip table: {}\".format(\n",
    "    table_taxi_obj.size() - taxi_table_size_before_insert\n",
    "))"
   ]
  },
  {
   "cell_type": "markdown",
   "metadata": {
    "cell_id": "dcffe950-7d9a-47b3-825d-d8af3d63d686",
    "deepnote_app_coordinates": {
     "h": 5,
     "w": 12,
     "x": 0,
     "y": 0
    },
    "deepnote_cell_height": 62,
    "deepnote_cell_type": "markdown",
    "tags": []
   },
   "source": [
    "### Load from data source"
   ]
  },
  {
   "cell_type": "markdown",
   "metadata": {
    "cell_id": "323527f6-83f0-46e2-a40f-03ded8075ea6",
    "deepnote_app_coordinates": {
     "h": 5,
     "w": 12,
     "x": 0,
     "y": 0
    },
    "deepnote_cell_height": 155.953125,
    "deepnote_cell_type": "markdown",
    "tags": []
   },
   "source": [
    "Kinetica can also load data that is stored in a supported data provider like S3, Azure BLOB, hdfs, Kafka or Kinetica's native file system (KiFS). At a high level the steps involve creating a [data source](https://docs.kinetica.com/7.1/load_data/concepts/#data-sources) and then loading data from files that are in that data source. For the purposes of this guide will load the rest of the taxi trip data that is stored as a csv file on Amazon S3.\n",
    "\n",
    "We have set the permissions on this file to be publicly accessible. "
   ]
  },
  {
   "cell_type": "code",
   "execution_count": null,
   "metadata": {
    "cell_id": "5a31aaba-9d30-4800-9ebd-f84982559785",
    "deepnote_app_coordinates": {
     "h": 5,
     "w": 12,
     "x": 0,
     "y": 0
    },
    "deepnote_cell_height": 337.75,
    "deepnote_cell_type": "code",
    "deepnote_output_heights": [
     78.75
    ],
    "deepnote_to_be_reexecuted": false,
    "execution_millis": 222,
    "execution_start": 1647575380152,
    "source_hash": "cf4dd8d3",
    "tags": []
   },
   "outputs": [
    {
     "data": {
      "text/plain": [
       "{'status_info': {'status': 'ERROR',\n",
       "  'message': \"Error: 'Key: taxi_trips_source already exists. (S/SMc:617); error (E/Ec:80); error in Job process'\",\n",
       "  'data_type': 'none',\n",
       "  'response_time': 0.18772}}"
      ]
     },
     "execution_count": 84,
     "metadata": {},
     "output_type": "execute_result"
    }
   ],
   "source": [
    "h_db.create_datasource(\n",
    "    name = \"taxi_trips_source\",\n",
    "    location = \"s3\",\n",
    "    user_name=\"\",\n",
    "    password=\"\",\n",
    "    options = {\n",
    "        's3_bucket_name': 'guidesdatapublic',\n",
    "        's3_region': 'us-east-1'\n",
    "    }\n",
    ")"
   ]
  },
  {
   "cell_type": "markdown",
   "metadata": {
    "cell_id": "6771e921-25e3-4f8c-aa70-7ab2d7fd7e0c",
    "deepnote_app_coordinates": {
     "h": 5,
     "w": 12,
     "x": 0,
     "y": 0
    },
    "deepnote_cell_height": 74.78125,
    "deepnote_cell_type": "markdown",
    "tags": []
   },
   "source": [
    "Once the data souce is created we can start loading data from files in the data source into tables in Kinetica using the method [`insert_records_from_files()`](https://docs.kinetica.com/7.1/api/python/frame/source/gpudb.html?highlight=insert%20record#gpudb.GPUdb.insert_records_from_files). "
   ]
  },
  {
   "cell_type": "code",
   "execution_count": null,
   "metadata": {
    "cell_id": "bf94c3fa-aee3-4b8d-ae2c-8842e731f11d",
    "deepnote_app_coordinates": {
     "h": 5,
     "w": 12,
     "x": 0,
     "y": 0
    },
    "deepnote_cell_height": 364.1875,
    "deepnote_cell_type": "code",
    "deepnote_to_be_reexecuted": false,
    "execution_millis": 1230,
    "execution_start": 1647575380373,
    "source_hash": "d678fac3",
    "tags": []
   },
   "outputs": [
    {
     "name": "stdout",
     "output_type": "stream",
     "text": [
      "Number of records inserted into the Taxi trip table: 581\n"
     ]
    }
   ],
   "source": [
    "taxi_table_size_before_insert = table_taxi_obj.size()\n",
    "\n",
    "h_db.insert_records_from_files(\n",
    "    table_name=\"python_dev_guide.taxi_trips\",\n",
    "    filepaths= \"taxi_trip_data_2.csv\",\n",
    "    options={\n",
    "        \"datasource_name\": \"taxi_trips_source\",\n",
    "        \"file_type\":\"delimited_text\"\n",
    "    }\n",
    "\n",
    ")\n",
    "\n",
    "print(\"Number of records inserted into the Taxi trip table: {}\".format(\n",
    "    table_taxi_obj.size() - taxi_table_size_before_insert\n",
    "))"
   ]
  },
  {
   "cell_type": "markdown",
   "metadata": {
    "cell_id": "d5849bc5-1a15-4642-bbac-14220902ad30",
    "deepnote_app_coordinates": {
     "h": 5,
     "w": 12,
     "x": 0,
     "y": 0
    },
    "deepnote_cell_height": 270.734375,
    "deepnote_cell_type": "markdown",
    "tags": []
   },
   "source": [
    "## Retrieving records from Kinetica\n",
    "Once the [table](https://docs.kinetica.com/7.1/concepts/tables/) is populated with data, the data can be retrieved using binary, JSON or geoJSON \n",
    "encoding. Binary encoding is more efficient than JSON encoding.\n",
    "\n",
    "The [`get_records()`](https://docs.kinetica.com/7.1/api/python/frame/source/gpudb.html?highlight=get%20records#gpudb.GPUdb.get_records) method comes in a few different flavors. You have the option to retrieve an entire table or `get_records_by_column()` additionally, you can choose the `get_records_and_decode()` option to retrieve the records as an ordered dictionary, which works well with the pandas library. The example below shows, the latter. \n",
    "\n",
    "The limit and offset options can be used to retrieve smaller blocks of data when you have large tables."
   ]
  },
  {
   "cell_type": "code",
   "execution_count": null,
   "metadata": {
    "cell_id": "d8e9cc98-3a7f-4e93-9a4a-a9c48e2511da",
    "deepnote_app_coordinates": {
     "h": 5,
     "w": 12,
     "x": 0,
     "y": 0
    },
    "deepnote_cell_height": 519,
    "deepnote_cell_type": "code",
    "deepnote_to_be_reexecuted": false,
    "execution_millis": 66,
    "execution_start": 1647575381604,
    "source_hash": "b5f5af6c",
    "tags": []
   },
   "outputs": [
    {
     "data": {
      "application/vnd.deepnote.dataframe.v3+json": {
       "column_count": 11,
       "columns": [
        {
         "dtype": "int64",
         "name": "transaction_id",
         "stats": {
          "histogram": [
           {
            "bin_end": 115412665,
            "bin_start": 106041671,
            "count": 1
           },
           {
            "bin_end": 124783659,
            "bin_start": 115412665,
            "count": 0
           },
           {
            "bin_end": 134154653,
            "bin_start": 124783659,
            "count": 0
           },
           {
            "bin_end": 143525647,
            "bin_start": 134154653,
            "count": 0
           },
           {
            "bin_end": 152896641,
            "bin_start": 143525647,
            "count": 0
           },
           {
            "bin_end": 162267635,
            "bin_start": 152896641,
            "count": 0
           },
           {
            "bin_end": 171638629,
            "bin_start": 162267635,
            "count": 1
           },
           {
            "bin_end": 181009623,
            "bin_start": 171638629,
            "count": 1
           },
           {
            "bin_end": 190380617,
            "bin_start": 181009623,
            "count": 0
           },
           {
            "bin_end": 199751611,
            "bin_start": 190380617,
            "count": 2
           }
          ],
          "max": "199751611",
          "min": "106041671",
          "nan_count": 0,
          "unique_count": 5
         }
        },
        {
         "dtype": "int64",
         "name": "payment_id",
         "stats": {
          "histogram": [
           {
            "bin_end": 125.8,
            "bin_start": 119,
            "count": 2
           },
           {
            "bin_end": 132.6,
            "bin_start": 125.8,
            "count": 0
           },
           {
            "bin_end": 139.4,
            "bin_start": 132.6,
            "count": 0
           },
           {
            "bin_end": 146.2,
            "bin_start": 139.4,
            "count": 0
           },
           {
            "bin_end": 153,
            "bin_start": 146.2,
            "count": 1
           },
           {
            "bin_end": 159.8,
            "bin_start": 153,
            "count": 0
           },
           {
            "bin_end": 166.6,
            "bin_start": 159.8,
            "count": 1
           },
           {
            "bin_end": 173.4,
            "bin_start": 166.6,
            "count": 0
           },
           {
            "bin_end": 180.2,
            "bin_start": 173.4,
            "count": 0
           },
           {
            "bin_end": 187,
            "bin_start": 180.2,
            "count": 1
           }
          ],
          "max": "187",
          "min": "119",
          "nan_count": 0,
          "unique_count": 5
         }
        },
        {
         "dtype": "object",
         "name": "vendor_id",
         "stats": {
          "categories": [
           {
            "count": 4,
            "name": "YCAB"
           },
           {
            "count": 1,
            "name": "NYC"
           }
          ],
          "nan_count": 0,
          "unique_count": 2
         }
        },
        {
         "dtype": "int64",
         "name": "pickup_datetime",
         "stats": {
          "histogram": [
           {
            "bin_end": 1428845536100,
            "bin_start": 1428669361000,
            "count": 2
           },
           {
            "bin_end": 1429021711200,
            "bin_start": 1428845536100,
            "count": 0
           },
           {
            "bin_end": 1429197886300,
            "bin_start": 1429021711200,
            "count": 0
           },
           {
            "bin_end": 1429374061400,
            "bin_start": 1429197886300,
            "count": 0
           },
           {
            "bin_end": 1429550236500,
            "bin_start": 1429374061400,
            "count": 0
           },
           {
            "bin_end": 1429726411600,
            "bin_start": 1429550236500,
            "count": 0
           },
           {
            "bin_end": 1429902586700,
            "bin_start": 1429726411600,
            "count": 1
           },
           {
            "bin_end": 1430078761800,
            "bin_start": 1429902586700,
            "count": 0
           },
           {
            "bin_end": 1430254936900,
            "bin_start": 1430078761800,
            "count": 0
           },
           {
            "bin_end": 1430431112000,
            "bin_start": 1430254936900,
            "count": 2
           }
          ],
          "max": "1430431112000",
          "min": "1428669361000",
          "nan_count": 0,
          "unique_count": 4
         }
        },
        {
         "dtype": "int64",
         "name": "dropoff_datetime",
         "stats": {
          "histogram": [
           {
            "bin_end": 1428846407600,
            "bin_start": 1428670181000,
            "count": 2
           },
           {
            "bin_end": 1429022634200,
            "bin_start": 1428846407600,
            "count": 0
           },
           {
            "bin_end": 1429198860800,
            "bin_start": 1429022634200,
            "count": 0
           },
           {
            "bin_end": 1429375087400,
            "bin_start": 1429198860800,
            "count": 0
           },
           {
            "bin_end": 1429551314000,
            "bin_start": 1429375087400,
            "count": 0
           },
           {
            "bin_end": 1429727540600,
            "bin_start": 1429551314000,
            "count": 0
           },
           {
            "bin_end": 1429903767200,
            "bin_start": 1429727540600,
            "count": 1
           },
           {
            "bin_end": 1430079993800,
            "bin_start": 1429903767200,
            "count": 0
           },
           {
            "bin_end": 1430256220400,
            "bin_start": 1430079993800,
            "count": 0
           },
           {
            "bin_end": 1430432447000,
            "bin_start": 1430256220400,
            "count": 2
           }
          ],
          "max": "1430432447000",
          "min": "1428670181000",
          "nan_count": 0,
          "unique_count": 5
         }
        },
        {
         "dtype": "int64",
         "name": "passenger_count",
         "stats": {
          "histogram": [
           {
            "bin_end": 1.1,
            "bin_start": 1,
            "count": 4
           },
           {
            "bin_end": 1.2,
            "bin_start": 1.1,
            "count": 0
           },
           {
            "bin_end": 1.3,
            "bin_start": 1.2,
            "count": 0
           },
           {
            "bin_end": 1.4,
            "bin_start": 1.3,
            "count": 0
           },
           {
            "bin_end": 1.5,
            "bin_start": 1.4,
            "count": 0
           },
           {
            "bin_end": 1.6,
            "bin_start": 1.5,
            "count": 0
           },
           {
            "bin_end": 1.7000000000000002,
            "bin_start": 1.6,
            "count": 0
           },
           {
            "bin_end": 1.8,
            "bin_start": 1.7000000000000002,
            "count": 0
           },
           {
            "bin_end": 1.9,
            "bin_start": 1.8,
            "count": 0
           },
           {
            "bin_end": 2,
            "bin_start": 1.9,
            "count": 1
           }
          ],
          "max": "2",
          "min": "1",
          "nan_count": 0,
          "unique_count": 2
         }
        },
        {
         "dtype": "float64",
         "name": "trip_distance",
         "stats": {
          "histogram": [
           {
            "bin_end": 1.1,
            "bin_start": 0.5,
            "count": 2
           },
           {
            "bin_end": 1.7,
            "bin_start": 1.1,
            "count": 2
           },
           {
            "bin_end": 2.3,
            "bin_start": 1.7,
            "count": 0
           },
           {
            "bin_end": 2.9,
            "bin_start": 2.3,
            "count": 0
           },
           {
            "bin_end": 3.5,
            "bin_start": 2.9,
            "count": 0
           },
           {
            "bin_end": 4.1,
            "bin_start": 3.5,
            "count": 0
           },
           {
            "bin_end": 4.7,
            "bin_start": 4.1,
            "count": 0
           },
           {
            "bin_end": 5.3,
            "bin_start": 4.7,
            "count": 0
           },
           {
            "bin_end": 5.8999999999999995,
            "bin_start": 5.3,
            "count": 0
           },
           {
            "bin_end": 6.5,
            "bin_start": 5.8999999999999995,
            "count": 1
           }
          ],
          "max": "6.5",
          "min": "0.5",
          "nan_count": 0,
          "unique_count": 5
         }
        },
        {
         "dtype": "float64",
         "name": "pickup_longitude",
         "stats": {
          "histogram": [
           {
            "bin_end": -73.98698808,
            "bin_start": -73.9887848,
            "count": 1
           },
           {
            "bin_end": -73.98519136,
            "bin_start": -73.98698808,
            "count": 1
           },
           {
            "bin_end": -73.98339464,
            "bin_start": -73.98519136,
            "count": 1
           },
           {
            "bin_end": -73.98159792,
            "bin_start": -73.98339464,
            "count": 0
           },
           {
            "bin_end": -73.9798012,
            "bin_start": -73.98159792,
            "count": 0
           },
           {
            "bin_end": -73.97800448000001,
            "bin_start": -73.9798012,
            "count": 0
           },
           {
            "bin_end": -73.97620776000001,
            "bin_start": -73.97800448000001,
            "count": 0
           },
           {
            "bin_end": -73.97441104,
            "bin_start": -73.97620776000001,
            "count": 1
           },
           {
            "bin_end": -73.97261432,
            "bin_start": -73.97441104,
            "count": 0
           },
           {
            "bin_end": -73.9708176,
            "bin_start": -73.97261432,
            "count": 1
           }
          ],
          "max": "-73.9708176",
          "min": "-73.9887848",
          "nan_count": 0,
          "unique_count": 5
         }
        },
        {
         "dtype": "float64",
         "name": "pickup_latitude",
         "stats": {
          "histogram": [
           {
            "bin_end": 40.74729729,
            "bin_start": 40.7447815,
            "count": 1
           },
           {
            "bin_end": 40.74981308,
            "bin_start": 40.74729729,
            "count": 0
           },
           {
            "bin_end": 40.75232887,
            "bin_start": 40.74981308,
            "count": 0
           },
           {
            "bin_end": 40.75484466,
            "bin_start": 40.75232887,
            "count": 0
           },
           {
            "bin_end": 40.75736045,
            "bin_start": 40.75484466,
            "count": 0
           },
           {
            "bin_end": 40.75987624,
            "bin_start": 40.75736045,
            "count": 1
           },
           {
            "bin_end": 40.76239203,
            "bin_start": 40.75987624,
            "count": 1
           },
           {
            "bin_end": 40.76490782,
            "bin_start": 40.76239203,
            "count": 0
           },
           {
            "bin_end": 40.76742361,
            "bin_start": 40.76490782,
            "count": 1
           },
           {
            "bin_end": 40.7699394,
            "bin_start": 40.76742361,
            "count": 1
           }
          ],
          "max": "40.7699394",
          "min": "40.7447815",
          "nan_count": 0,
          "unique_count": 5
         }
        },
        {
         "dtype": "float64",
         "name": "dropoff_longitude",
         "stats": {
          "histogram": [
           {
            "bin_end": -74.00644913,
            "bin_start": -74.0091095,
            "count": 1
           },
           {
            "bin_end": -74.00378875999999,
            "bin_start": -74.00644913,
            "count": 0
           },
           {
            "bin_end": -74.00112838999999,
            "bin_start": -74.00378875999999,
            "count": 0
           },
           {
            "bin_end": -73.99846801999999,
            "bin_start": -74.00112838999999,
            "count": 1
           },
           {
            "bin_end": -73.99580764999999,
            "bin_start": -73.99846801999999,
            "count": 0
           },
           {
            "bin_end": -73.99314728,
            "bin_start": -73.99580764999999,
            "count": 0
           },
           {
            "bin_end": -73.99048691,
            "bin_start": -73.99314728,
            "count": 1
           },
           {
            "bin_end": -73.98782654,
            "bin_start": -73.99048691,
            "count": 0
           },
           {
            "bin_end": -73.98516617,
            "bin_start": -73.98782654,
            "count": 0
           },
           {
            "bin_end": -73.9825058,
            "bin_start": -73.98516617,
            "count": 2
           }
          ],
          "max": "-73.9825058",
          "min": "-74.0091095",
          "nan_count": 0,
          "unique_count": 5
         }
        },
        {
         "dtype": "float64",
         "name": "dropoff_latitude",
         "stats": {
          "histogram": [
           {
            "bin_end": 40.71072389,
            "bin_start": 40.7044182,
            "count": 1
           },
           {
            "bin_end": 40.71702958,
            "bin_start": 40.71072389,
            "count": 0
           },
           {
            "bin_end": 40.72333527,
            "bin_start": 40.71702958,
            "count": 0
           },
           {
            "bin_end": 40.72964096,
            "bin_start": 40.72333527,
            "count": 0
           },
           {
            "bin_end": 40.73594665,
            "bin_start": 40.72964096,
            "count": 1
           },
           {
            "bin_end": 40.74225234,
            "bin_start": 40.73594665,
            "count": 0
           },
           {
            "bin_end": 40.74855803,
            "bin_start": 40.74225234,
            "count": 0
           },
           {
            "bin_end": 40.754863719999996,
            "bin_start": 40.74855803,
            "count": 1
           },
           {
            "bin_end": 40.76116941,
            "bin_start": 40.754863719999996,
            "count": 0
           },
           {
            "bin_end": 40.7674751,
            "bin_start": 40.76116941,
            "count": 2
           }
          ],
          "max": "40.7674751",
          "min": "40.7044182",
          "nan_count": 0,
          "unique_count": 5
         }
        },
        {
         "dtype": "int64",
         "name": "_deepnote_index_column"
        }
       ],
       "row_count": 5,
       "rows": [
        {
         "_deepnote_index_column": 0,
         "dropoff_datetime": 1428808723000,
         "dropoff_latitude": 40.7674751,
         "dropoff_longitude": -73.9825058,
         "passenger_count": 2,
         "payment_id": 166,
         "pickup_datetime": 1428808559000,
         "pickup_latitude": 40.7607346,
         "pickup_longitude": -73.9867935,
         "transaction_id": 199751611,
         "trip_distance": 0.5,
         "vendor_id": "YCAB"
        },
        {
         "_deepnote_index_column": 1,
         "dropoff_datetime": 1428670181000,
         "dropoff_latitude": 40.752861,
         "dropoff_longitude": -73.9836578,
         "passenger_count": 1,
         "payment_id": 187,
         "pickup_datetime": 1428669361000,
         "pickup_latitude": 40.7590065,
         "pickup_longitude": -73.9708176,
         "transaction_id": 191386113,
         "trip_distance": 1.29999995,
         "vendor_id": "YCAB"
        },
        {
         "_deepnote_index_column": 2,
         "dropoff_datetime": 1429869673000,
         "dropoff_latitude": 40.7625389,
         "dropoff_longitude": -73.9927292,
         "passenger_count": 1,
         "payment_id": 125,
         "pickup_datetime": 1429869346000,
         "pickup_latitude": 40.7699394,
         "pickup_longitude": -73.9844284,
         "transaction_id": 106041671,
         "trip_distance": 0.790000021,
         "vendor_id": "NYC"
        },
        {
         "_deepnote_index_column": 3,
         "dropoff_datetime": 1430431471000,
         "dropoff_latitude": 40.7348251,
         "dropoff_longitude": -74.0004807,
         "passenger_count": 1,
         "payment_id": 119,
         "pickup_datetime": 1430431112000,
         "pickup_latitude": 40.7447815,
         "pickup_longitude": -73.9887848,
         "transaction_id": 177106037,
         "trip_distance": 1.20000005,
         "vendor_id": "YCAB"
        },
        {
         "_deepnote_index_column": 4,
         "dropoff_datetime": 1430432447000,
         "dropoff_latitude": 40.7044182,
         "dropoff_longitude": -74.0091095,
         "passenger_count": 1,
         "payment_id": 150,
         "pickup_datetime": 1430431112000,
         "pickup_latitude": 40.765274,
         "pickup_longitude": -73.9754486,
         "transaction_id": 169677687,
         "trip_distance": 6.5,
         "vendor_id": "YCAB"
        }
       ]
      },
      "text/html": [
       "<div>\n",
       "<style scoped>\n",
       "    .dataframe tbody tr th:only-of-type {\n",
       "        vertical-align: middle;\n",
       "    }\n",
       "\n",
       "    .dataframe tbody tr th {\n",
       "        vertical-align: top;\n",
       "    }\n",
       "\n",
       "    .dataframe thead th {\n",
       "        text-align: right;\n",
       "    }\n",
       "</style>\n",
       "<table border=\"1\" class=\"dataframe\">\n",
       "  <thead>\n",
       "    <tr style=\"text-align: right;\">\n",
       "      <th></th>\n",
       "      <th>transaction_id</th>\n",
       "      <th>payment_id</th>\n",
       "      <th>vendor_id</th>\n",
       "      <th>pickup_datetime</th>\n",
       "      <th>dropoff_datetime</th>\n",
       "      <th>passenger_count</th>\n",
       "      <th>trip_distance</th>\n",
       "      <th>pickup_longitude</th>\n",
       "      <th>pickup_latitude</th>\n",
       "      <th>dropoff_longitude</th>\n",
       "      <th>dropoff_latitude</th>\n",
       "    </tr>\n",
       "  </thead>\n",
       "  <tbody>\n",
       "    <tr>\n",
       "      <th>0</th>\n",
       "      <td>199751611</td>\n",
       "      <td>166</td>\n",
       "      <td>YCAB</td>\n",
       "      <td>1428808559000</td>\n",
       "      <td>1428808723000</td>\n",
       "      <td>2</td>\n",
       "      <td>0.50</td>\n",
       "      <td>-73.986794</td>\n",
       "      <td>40.760735</td>\n",
       "      <td>-73.982506</td>\n",
       "      <td>40.767475</td>\n",
       "    </tr>\n",
       "    <tr>\n",
       "      <th>1</th>\n",
       "      <td>191386113</td>\n",
       "      <td>187</td>\n",
       "      <td>YCAB</td>\n",
       "      <td>1428669361000</td>\n",
       "      <td>1428670181000</td>\n",
       "      <td>1</td>\n",
       "      <td>1.30</td>\n",
       "      <td>-73.970818</td>\n",
       "      <td>40.759006</td>\n",
       "      <td>-73.983658</td>\n",
       "      <td>40.752861</td>\n",
       "    </tr>\n",
       "    <tr>\n",
       "      <th>2</th>\n",
       "      <td>106041671</td>\n",
       "      <td>125</td>\n",
       "      <td>NYC</td>\n",
       "      <td>1429869346000</td>\n",
       "      <td>1429869673000</td>\n",
       "      <td>1</td>\n",
       "      <td>0.79</td>\n",
       "      <td>-73.984428</td>\n",
       "      <td>40.769939</td>\n",
       "      <td>-73.992729</td>\n",
       "      <td>40.762539</td>\n",
       "    </tr>\n",
       "    <tr>\n",
       "      <th>3</th>\n",
       "      <td>177106037</td>\n",
       "      <td>119</td>\n",
       "      <td>YCAB</td>\n",
       "      <td>1430431112000</td>\n",
       "      <td>1430431471000</td>\n",
       "      <td>1</td>\n",
       "      <td>1.20</td>\n",
       "      <td>-73.988785</td>\n",
       "      <td>40.744782</td>\n",
       "      <td>-74.000481</td>\n",
       "      <td>40.734825</td>\n",
       "    </tr>\n",
       "    <tr>\n",
       "      <th>4</th>\n",
       "      <td>169677687</td>\n",
       "      <td>150</td>\n",
       "      <td>YCAB</td>\n",
       "      <td>1430431112000</td>\n",
       "      <td>1430432447000</td>\n",
       "      <td>1</td>\n",
       "      <td>6.50</td>\n",
       "      <td>-73.975449</td>\n",
       "      <td>40.765274</td>\n",
       "      <td>-74.009109</td>\n",
       "      <td>40.704418</td>\n",
       "    </tr>\n",
       "  </tbody>\n",
       "</table>\n",
       "</div>"
      ],
      "text/plain": [
       "   transaction_id  payment_id vendor_id  pickup_datetime  dropoff_datetime  \\\n",
       "0       199751611         166      YCAB    1428808559000     1428808723000   \n",
       "1       191386113         187      YCAB    1428669361000     1428670181000   \n",
       "2       106041671         125       NYC    1429869346000     1429869673000   \n",
       "3       177106037         119      YCAB    1430431112000     1430431471000   \n",
       "4       169677687         150      YCAB    1430431112000     1430432447000   \n",
       "\n",
       "   passenger_count  trip_distance  pickup_longitude  pickup_latitude  \\\n",
       "0                2           0.50        -73.986794        40.760735   \n",
       "1                1           1.30        -73.970818        40.759006   \n",
       "2                1           0.79        -73.984428        40.769939   \n",
       "3                1           1.20        -73.988785        40.744782   \n",
       "4                1           6.50        -73.975449        40.765274   \n",
       "\n",
       "   dropoff_longitude  dropoff_latitude  \n",
       "0         -73.982506         40.767475  \n",
       "1         -73.983658         40.752861  \n",
       "2         -73.992729         40.762539  \n",
       "3         -74.000481         40.734825  \n",
       "4         -74.009109         40.704418  "
      ]
     },
     "metadata": {},
     "output_type": "display_data"
    }
   ],
   "source": [
    "# Retrieve the record from table in Kinetica\n",
    "records = h_db.get_records_and_decode(\n",
    "    table_name=\"python_dev_guide.taxi_trips\", \n",
    "    limit = 5, \n",
    "    encoding='json')['records']\n",
    "\n",
    "# Convert to a pandas data frame and print\n",
    "display(pd.DataFrame(records))"
   ]
  },
  {
   "cell_type": "markdown",
   "metadata": {
    "cell_id": "e7cbfaa3-4e78-4355-87ea-3a38ca4430f8",
    "deepnote_app_coordinates": {
     "h": 5,
     "w": 12,
     "x": 0,
     "y": 0
    },
    "deepnote_cell_height": 108.390625,
    "deepnote_cell_type": "markdown",
    "tags": []
   },
   "source": [
    "## Updating and removing records\n",
    "Using any [GPUdbTable](https://docs.kinetica.com/7.1/api/python/?source/gpudbtable.html) object, you can update records via the update_records method."
   ]
  },
  {
   "cell_type": "code",
   "execution_count": null,
   "metadata": {
    "cell_id": "a5fce5cf-dc11-4161-8eba-168464567d31",
    "deepnote_app_coordinates": {
     "h": 5,
     "w": 12,
     "x": 0,
     "y": 0
    },
    "deepnote_cell_height": 433.6875,
    "deepnote_cell_type": "code",
    "deepnote_output_heights": [
     174.6875
    ],
    "deepnote_to_be_reexecuted": false,
    "execution_millis": 60,
    "execution_start": 1647575381678,
    "source_hash": "8e0b1fa8",
    "tags": []
   },
   "outputs": [
    {
     "data": {
      "text/plain": [
       "{'count_updated': 1,\n",
       " 'counts_updated': [1],\n",
       " 'count_inserted': 0,\n",
       " 'counts_inserted': [0],\n",
       " 'info': {},\n",
       " 'status_info': {'status': 'OK',\n",
       "  'message': '',\n",
       "  'data_type': 'update_records_response',\n",
       "  'response_time': 0.01367}}"
      ]
     },
     "execution_count": 87,
     "metadata": {},
     "output_type": "execute_result"
    }
   ],
   "source": [
    "# Update the e-mail of, and add two employees and one cab to, the DDS vendor\n",
    "table_vendor_obj.update_records(\n",
    "    expressions=[\"vendor_id = 'DDS'\"],\n",
    "    new_values_maps={\n",
    "        \"email\": \"'management@ddstaxico.com'\",\n",
    "        \"num_emps\": \"num_emps + 2\",\n",
    "        \"num_cabs\": \"num_cabs + 1\"\n",
    "    },\n",
    "    options={\"use_expressions_in_new_values_maps\":\"true\"}\n",
    ")"
   ]
  },
  {
   "cell_type": "markdown",
   "metadata": {
    "cell_id": "37e6fb99-7b53-429d-8ca8-24c0d9c39a91",
    "deepnote_app_coordinates": {
     "h": 5,
     "w": 12,
     "x": 0,
     "y": 0
    },
    "deepnote_cell_height": 52.390625,
    "deepnote_cell_type": "markdown",
    "tags": []
   },
   "source": [
    "You can delete records using the [`delete_records()`](https://docs.kinetica.com/7.1/api/python/?source/gpudbtable.html#gpudb.GPUdbTable.delete_records) method."
   ]
  },
  {
   "cell_type": "code",
   "execution_count": null,
   "metadata": {
    "cell_id": "ac7c4d41-548d-407c-9649-cba9d148295b",
    "deepnote_app_coordinates": {
     "h": 5,
     "w": 12,
     "x": 0,
     "y": 0
    },
    "deepnote_cell_height": 278.5625,
    "deepnote_cell_type": "code",
    "deepnote_to_be_reexecuted": false,
    "execution_millis": 80,
    "execution_start": 1647575381735,
    "source_hash": "ccda5d00",
    "tags": []
   },
   "outputs": [
    {
     "name": "stdout",
     "output_type": "stream",
     "text": [
      "Records in the payment table (before delete): 26\n",
      "Deleting record where payment_id = 189\n",
      "Records in the payment table (after delete): 25\n"
     ]
    }
   ],
   "source": [
    "# Delete payment 189\n",
    "pre_delete = table_payment_obj.size()\n",
    "print(\"Records in the payment table (before delete): {}\".format(pre_delete))\n",
    "delete_expr = [\"payment_id = 189\"]\n",
    "print(\"Deleting record where \" + delete_expr[0])\n",
    "table_payment_obj.delete_records(expressions=delete_expr)\n",
    "post_delete = table_payment_obj.size()\n",
    "print(\"Records in the payment table (after delete): {}\".format(post_delete))"
   ]
  },
  {
   "cell_type": "markdown",
   "metadata": {
    "cell_id": "2ad869c6-24cd-43ac-92a2-a5da0e763ec4",
    "deepnote_app_coordinates": {
     "h": 5,
     "w": 12,
     "x": 0,
     "y": 0
    },
    "deepnote_cell_height": 237.5625,
    "deepnote_cell_type": "markdown",
    "tags": []
   },
   "source": [
    "## Alter Table\n",
    "Some properties can be altered or added after [table](https://docs.kinetica.com/7.1/concepts/tables/) creation, including [indexes](https://docs.kinetica.com/7.1/concepts/indexes/), [dictionary encoding](https://docs.kinetica.com/7.1/concepts/dictionary_encoding/), and [compression](https://docs.kinetica.com/7.1/concepts/compression/).\n",
    "\n",
    "### Indexes\n",
    "The example below uses the [`alter_table()`](https://docs.kinetica.com/7.1/api/python/?source/gpudbtable.html#gpudb.GPUdbTable.alter_table) method to create column indexes (also known as attribute index) on the `fare_amonunt` and `passenger_count` columns in the payment table.\n",
    "\n"
   ]
  },
  {
   "cell_type": "code",
   "execution_count": null,
   "metadata": {
    "cell_id": "85124167-31d9-4c37-905c-c7f27bc0b1c5",
    "deepnote_app_coordinates": {
     "h": 5,
     "w": 12,
     "x": 0,
     "y": 0
    },
    "deepnote_cell_height": 401.25,
    "deepnote_cell_type": "code",
    "deepnote_output_heights": [
     232.25
    ],
    "deepnote_to_be_reexecuted": false,
    "execution_millis": 70,
    "execution_start": 1647575381815,
    "source_hash": "6a99ea2e",
    "tags": []
   },
   "outputs": [
    {
     "data": {
      "text/plain": [
       "{'table_name': 'python_dev_guide.taxi_trips',\n",
       " 'action': 'create_index',\n",
       " 'value': 'passenger_count',\n",
       " 'type_id': '',\n",
       " 'type_definition': '',\n",
       " 'properties': {},\n",
       " 'label': '',\n",
       " 'info': {},\n",
       " 'status_info': {'status': 'OK',\n",
       "  'message': '',\n",
       "  'data_type': 'alter_table_response',\n",
       "  'response_time': 0.00887}}"
      ]
     },
     "execution_count": 89,
     "metadata": {},
     "output_type": "execute_result"
    }
   ],
   "source": [
    "# Add column indexes on:\n",
    "#   - payment table, fare_amount (for query-chaining filter example)\n",
    "#   - taxi table, passenger_count (for filter-by-range example) */\n",
    "table_payment_obj.alter_table(action=\"create_index\", value=\"fare_amount\")\n",
    "table_taxi_obj.alter_table(action=\"create_index\", value=\"passenger_count\")"
   ]
  },
  {
   "cell_type": "markdown",
   "metadata": {
    "cell_id": "7c94e0f5-1c4a-4b0a-a401-659c684c427e",
    "deepnote_app_coordinates": {
     "h": 5,
     "w": 12,
     "x": 0,
     "y": 0
    },
    "deepnote_cell_height": 122.78125,
    "deepnote_cell_type": "markdown",
    "tags": []
   },
   "source": [
    "### Dictionary Encoding\n",
    "[Dictionary encoding](https://docs.kinetica.com/7.1/concepts/dictionary_encoding/) is a data compression technique that can be applied to individual columns. Applying dictionary encoding via [`alter_table()`](https://docs.kinetica.com/7.1/api/python/?source/gpudbtable.html#gpudb.GPUdbTable.alter_table) involves adding a new property to a column."
   ]
  },
  {
   "cell_type": "code",
   "execution_count": null,
   "metadata": {
    "cell_id": "91ae4617-fdd1-4ed5-84aa-9e3c31994387",
    "deepnote_app_coordinates": {
     "h": 5,
     "w": 12,
     "x": 0,
     "y": 0
    },
    "deepnote_cell_height": 611.125,
    "deepnote_cell_type": "code",
    "deepnote_output_heights": [
     424.125
    ],
    "deepnote_to_be_reexecuted": false,
    "execution_millis": 46,
    "execution_start": 1647575381932,
    "source_hash": "284ed4f0",
    "tags": []
   },
   "outputs": [
    {
     "data": {
      "text/plain": [
       "{'table_name': 'python_dev_guide.taxi_trips',\n",
       " 'action': 'change_column',\n",
       " 'value': 'vendor_id',\n",
       " 'type_id': '6085055925073034879',\n",
       " 'type_definition': '{\"type\":\"record\",\"name\":\"type_name\",\"fields\":[{\"name\":\"transaction_id\",\"type\":\"long\"},{\"name\":\"payment_id\",\"type\":\"long\"},{\"name\":\"vendor_id\",\"type\":\"string\"},{\"name\":\"pickup_datetime\",\"type\":\"long\"},{\"name\":\"dropoff_datetime\",\"type\":\"long\"},{\"name\":\"passenger_count\",\"type\":\"int\"},{\"name\":\"trip_distance\",\"type\":\"float\"},{\"name\":\"pickup_longitude\",\"type\":\"float\"},{\"name\":\"pickup_latitude\",\"type\":\"float\"},{\"name\":\"dropoff_longitude\",\"type\":\"float\"},{\"name\":\"dropoff_latitude\",\"type\":\"float\"}]}',\n",
       " 'properties': {'dropoff_datetime': ['data', 'timestamp'],\n",
       "  'dropoff_latitude': ['data'],\n",
       "  'dropoff_longitude': ['data'],\n",
       "  'passenger_count': ['data', 'int8'],\n",
       "  'payment_id': ['data', 'primary_key', 'shard_key'],\n",
       "  'pickup_datetime': ['data', 'timestamp'],\n",
       "  'pickup_latitude': ['data'],\n",
       "  'pickup_longitude': ['data'],\n",
       "  'transaction_id': ['data', 'primary_key'],\n",
       "  'trip_distance': ['data'],\n",
       "  'vendor_id': ['data', 'char4', 'dict']},\n",
       " 'label': '',\n",
       " 'info': {},\n",
       " 'status_info': {'status': 'OK',\n",
       "  'message': '',\n",
       "  'data_type': 'alter_table_response',\n",
       "  'response_time': 0.01755}}"
      ]
     },
     "execution_count": 90,
     "metadata": {},
     "output_type": "execute_result"
    }
   ],
   "source": [
    "# Apply dictionary encoding to the vendor_id column\n",
    "table_taxi_obj.alter_table(\n",
    "    action=\"change_column\",\n",
    "    value=\"vendor_id\",\n",
    "    options={\"column_properties\": \"char4,dict\"}\n",
    ")"
   ]
  },
  {
   "cell_type": "markdown",
   "metadata": {
    "cell_id": "b1633d51-2672-4f2a-bb91-ebcc8cb912c1",
    "deepnote_app_coordinates": {
     "h": 5,
     "w": 12,
     "x": 0,
     "y": 0
    },
    "deepnote_cell_height": 192.78125,
    "deepnote_cell_type": "markdown",
    "tags": []
   },
   "source": [
    "## Filters\n",
    "[Filters](https://docs.kinetica.com/7.1/api/python/frame/source/gpudb.html?highlight=filter#gpudb.GPUdb.filter) are an easy way to reduce larger [tables](https://docs.kinetica.com/7.1/concepts/tables/) into more concise [views](https://docs.kinetica.com/7.1/concepts/views/) using [expressions](https://docs.kinetica.com/7.1/concepts/expressions/).\n",
    "\n",
    "### Filter Example 1\n",
    "In the example below Kinetica creates a view with a random name in the default schema `ki_home`"
   ]
  },
  {
   "cell_type": "code",
   "execution_count": null,
   "metadata": {
    "cell_id": "79a2f1ed-8ef2-4a42-b1c7-1e9952542071",
    "deepnote_app_coordinates": {
     "h": 5,
     "w": 12,
     "x": 0,
     "y": 0
    },
    "deepnote_cell_height": 184.1875,
    "deepnote_cell_type": "code",
    "deepnote_to_be_reexecuted": false,
    "execution_millis": 45,
    "execution_start": 1647575381978,
    "source_hash": "b8422fba",
    "tags": []
   },
   "outputs": [
    {
     "name": "stdout",
     "output_type": "stream",
     "text": [
      "Number of null payments: 3\n"
     ]
    }
   ],
   "source": [
    "# Select all payments with no corresponding payment type; allow Kinetica \n",
    "# to assign a random name to the view\n",
    "f1_count = table_payment_obj.filter(expression=\"IS_NULL(payment_type)\").size()\n",
    "\n",
    "print(\"Number of null payments: {}\".format(f1_count))"
   ]
  },
  {
   "cell_type": "markdown",
   "metadata": {
    "cell_id": "441d086f-63f8-4563-b357-7038aeee24d3",
    "deepnote_app_coordinates": {
     "h": 5,
     "w": 12,
     "x": 0,
     "y": 0
    },
    "deepnote_cell_height": 167.5625,
    "deepnote_cell_type": "markdown",
    "tags": []
   },
   "source": [
    "### Filter example 2\n",
    "In this example we create a filter query chain to find records where the `payment_type` is null and the `fare_amount` is greater than 8 dollars. Both the view are explicitly named in this case. filter view with a specified name. The filter on `fare_amount` is optimized for performance since we indexed that column in an earlier step."
   ]
  },
  {
   "cell_type": "code",
   "execution_count": null,
   "metadata": {
    "cell_id": "0584e2ed-f8cd-4f4e-b157-f856477d6b28",
    "deepnote_app_coordinates": {
     "h": 5,
     "w": 12,
     "x": 0,
     "y": 0
    },
    "deepnote_cell_height": 310.1875,
    "deepnote_cell_type": "code",
    "deepnote_to_be_reexecuted": false,
    "execution_millis": 126,
    "execution_start": 1647575382021,
    "source_hash": "ffd425d0",
    "tags": []
   },
   "outputs": [
    {
     "name": "stdout",
     "output_type": "stream",
     "text": [
      "Number of null payments with a fare amount greater than $8.00 (with query chaining): 1\n"
     ]
    }
   ],
   "source": [
    "# Using GPUdbTable query chaining, filter null payment type records with a\n",
    "# fare amount greater than 8\n",
    "f2_count = table_payment_obj.filter(\n",
    "    view_name=\"python_dev_guide.filter_view_1\",\n",
    "    expression=\"IS_NULL(payment_type)\"\n",
    "    ).filter(\n",
    "    view_name=\"python_dev_guide.filter_view_2\",\n",
    "    expression=\"fare_amount > 8\"\n",
    "    ).size()\n",
    "\n",
    "print(\"Number of null payments with a fare amount greater than $8.00 \" \\\n",
    "    \"(with query chaining): {}\".format(f2_count))"
   ]
  },
  {
   "cell_type": "markdown",
   "metadata": {
    "cell_id": "a4abfc1d-b9d1-4ed3-905d-cb5692e88743",
    "deepnote_app_coordinates": {
     "h": 5,
     "w": 12,
     "x": 0,
     "y": 0
    },
    "deepnote_cell_height": 122.78125,
    "deepnote_cell_type": "markdown",
    "tags": []
   },
   "source": [
    "### Filter example 3\n",
    "[`filter_by_list()`](https://docs.kinetica.com/7.1/api/python/frame/source/gpudb.html?highlight=filter#gpudb.GPUdb.filter_by_list) identifies records in a table that have values in the given list for the corresponding column. Here we use to filter records that have the vendor ids \"NYC\" and \"YCAB\"."
   ]
  },
  {
   "cell_type": "code",
   "execution_count": null,
   "metadata": {
    "cell_id": "37a1d0d4-da6d-47e3-9586-361336007d5e",
    "deepnote_app_coordinates": {
     "h": 5,
     "w": 12,
     "x": 0,
     "y": 0
    },
    "deepnote_cell_height": 220.1875,
    "deepnote_cell_type": "code",
    "deepnote_to_be_reexecuted": false,
    "execution_millis": 475,
    "execution_start": 1647575382123,
    "source_hash": "5e5a1a8",
    "tags": []
   },
   "outputs": [
    {
     "name": "stdout",
     "output_type": "stream",
     "text": [
      "Number of records where vendor_id is either NYC or YCAB: 498\n"
     ]
    }
   ],
   "source": [
    "# Filter by list where vendor ID is either NYC or YCAB\n",
    "f3_count = table_taxi_obj.filter_by_list(\n",
    "    view_name=\"python_dev_guide.filter_view_3\",\n",
    "    column_values_map={\"vendor_id\": [\"NYC\", \"YCAB\"]}\n",
    ").size()\n",
    "\n",
    "print(\"Number of records where vendor_id is either NYC or YCAB: {}\".format(f3_count))"
   ]
  },
  {
   "cell_type": "markdown",
   "metadata": {
    "cell_id": "dc3eb5f1-92c4-4fef-9db2-2ab8bb810926",
    "deepnote_app_coordinates": {
     "h": 5,
     "w": 12,
     "x": 0,
     "y": 0
    },
    "deepnote_cell_height": 46,
    "deepnote_cell_type": "markdown",
    "tags": []
   },
   "source": []
  },
  {
   "cell_type": "markdown",
   "metadata": {
    "cell_id": "0aa478f1-bf65-4b52-b01d-107c141ce603",
    "deepnote_app_coordinates": {
     "h": 5,
     "w": 12,
     "x": 0,
     "y": 0
    },
    "deepnote_cell_height": 145.171875,
    "deepnote_cell_type": "markdown",
    "tags": []
   },
   "source": [
    "### Filter example 4\n",
    "[`filter_by_range()`](https://docs.kinetica.com/7.1/api/python/frame/source/gpudb.html?highlight=filter#gpudb.GPUdb.filter_by_range) is another filter variant.  It can be used to identify objects from a table that have a column that is within the given bounds. Here it is used to find the records where the `passenger_count` is between 1 and 3."
   ]
  },
  {
   "cell_type": "code",
   "execution_count": null,
   "metadata": {
    "cell_id": "aedb8180-f09d-4a33-b6f0-010b03c9353b",
    "deepnote_app_coordinates": {
     "h": 5,
     "w": 12,
     "x": 0,
     "y": 0
    },
    "deepnote_cell_height": 256.1875,
    "deepnote_cell_type": "code",
    "deepnote_to_be_reexecuted": false,
    "execution_millis": 415,
    "execution_start": 1647575382183,
    "source_hash": "a03f36c9",
    "tags": []
   },
   "outputs": [
    {
     "name": "stdout",
     "output_type": "stream",
     "text": [
      "Number of trips with a passenger count between 1 and 3: 972\n"
     ]
    }
   ],
   "source": [
    "# Filter by range trip with passenger count between 1 and 3\n",
    "f4_count = table_taxi_obj.filter_by_range(\n",
    "    view_name=\"python_dev_guide.filter_view_4\",\n",
    "    column_name=\"passenger_count\",\n",
    "    lower_bound=1,\n",
    "    upper_bound=3\n",
    ").size()\n",
    "\n",
    "print(\"Number of trips with a passenger count between 1 and 3: {}\".format(f4_count))"
   ]
  },
  {
   "cell_type": "markdown",
   "metadata": {
    "cell_id": "e2e518cb-4bae-4c4a-981a-cf13061336eb",
    "deepnote_app_coordinates": {
     "h": 5,
     "w": 12,
     "x": 0,
     "y": 0
    },
    "deepnote_cell_height": 215.171875,
    "deepnote_cell_type": "markdown",
    "tags": []
   },
   "source": [
    "## Aggregates\n",
    "Kinetica supports various aggregate and group-by queries, which group and aggregate your data to return counts and useful statistics.\n",
    "\n",
    "### Aggregate Example 1\n",
    "[`aggregate_statistics()`](https://docs.kinetica.com/7.1/api/python/frame/source/gpudb.html?highlight=aggregate_statistics#gpudb.GPUdb.aggregate_statistics) can be used to calculate summary statistics for column(s) in a table."
   ]
  },
  {
   "cell_type": "code",
   "execution_count": null,
   "metadata": {
    "cell_id": "9e771325-5f8b-4938-b5ad-80f05f6986c9",
    "deepnote_app_coordinates": {
     "h": 5,
     "w": 12,
     "x": 0,
     "y": 0
    },
    "deepnote_cell_height": 401.1875,
    "deepnote_cell_type": "code",
    "deepnote_to_be_reexecuted": false,
    "execution_millis": 354,
    "execution_start": 1647575382245,
    "source_hash": "d63e70e7",
    "tags": []
   },
   "outputs": [
    {
     "name": "stdout",
     "output_type": "stream",
     "text": [
      "Summary statistics for trip distance\n"
     ]
    },
    {
     "data": {
      "application/vnd.deepnote.dataframe.v3+json": {
       "column_count": 4,
       "columns": [
        {
         "dtype": "float64",
         "name": "count",
         "stats": {
          "histogram": [
           {
            "bin_end": 1080.6,
            "bin_start": 1080.5,
            "count": 0
           },
           {
            "bin_end": 1080.7,
            "bin_start": 1080.6,
            "count": 0
           },
           {
            "bin_end": 1080.8,
            "bin_start": 1080.7,
            "count": 0
           },
           {
            "bin_end": 1080.9,
            "bin_start": 1080.8,
            "count": 0
           },
           {
            "bin_end": 1081,
            "bin_start": 1080.9,
            "count": 0
           },
           {
            "bin_end": 1081.1,
            "bin_start": 1081,
            "count": 1
           },
           {
            "bin_end": 1081.2,
            "bin_start": 1081.1,
            "count": 0
           },
           {
            "bin_end": 1081.3,
            "bin_start": 1081.2,
            "count": 0
           },
           {
            "bin_end": 1081.4,
            "bin_start": 1081.3,
            "count": 0
           },
           {
            "bin_end": 1081.5,
            "bin_start": 1081.4,
            "count": 0
           }
          ],
          "max": "1081.0",
          "min": "1081.0",
          "nan_count": 0,
          "unique_count": 1
         }
        },
        {
         "dtype": "float64",
         "name": "max",
         "stats": {
          "histogram": [
           {
            "bin_end": 21.479999160766603,
            "bin_start": 21.3799991607666,
            "count": 0
           },
           {
            "bin_end": 21.5799991607666,
            "bin_start": 21.479999160766603,
            "count": 0
           },
           {
            "bin_end": 21.679999160766602,
            "bin_start": 21.5799991607666,
            "count": 0
           },
           {
            "bin_end": 21.7799991607666,
            "bin_start": 21.679999160766602,
            "count": 0
           },
           {
            "bin_end": 21.8799991607666,
            "bin_start": 21.7799991607666,
            "count": 0
           },
           {
            "bin_end": 21.979999160766603,
            "bin_start": 21.8799991607666,
            "count": 1
           },
           {
            "bin_end": 22.0799991607666,
            "bin_start": 21.979999160766603,
            "count": 0
           },
           {
            "bin_end": 22.179999160766602,
            "bin_start": 22.0799991607666,
            "count": 0
           },
           {
            "bin_end": 22.2799991607666,
            "bin_start": 22.179999160766602,
            "count": 0
           },
           {
            "bin_end": 22.3799991607666,
            "bin_start": 22.2799991607666,
            "count": 0
           }
          ],
          "max": "21.8799991607666",
          "min": "21.8799991607666",
          "nan_count": 0,
          "unique_count": 1
         }
        },
        {
         "dtype": "float64",
         "name": "mean",
         "stats": {
          "histogram": [
           {
            "bin_end": 2.464516186335785,
            "bin_start": 2.364516186335785,
            "count": 0
           },
           {
            "bin_end": 2.5645161863357853,
            "bin_start": 2.464516186335785,
            "count": 0
           },
           {
            "bin_end": 2.664516186335785,
            "bin_start": 2.5645161863357853,
            "count": 0
           },
           {
            "bin_end": 2.764516186335785,
            "bin_start": 2.664516186335785,
            "count": 0
           },
           {
            "bin_end": 2.864516186335785,
            "bin_start": 2.764516186335785,
            "count": 0
           },
           {
            "bin_end": 2.964516186335785,
            "bin_start": 2.864516186335785,
            "count": 1
           },
           {
            "bin_end": 3.0645161863357853,
            "bin_start": 2.964516186335785,
            "count": 0
           },
           {
            "bin_end": 3.164516186335785,
            "bin_start": 3.0645161863357853,
            "count": 0
           },
           {
            "bin_end": 3.264516186335785,
            "bin_start": 3.164516186335785,
            "count": 0
           },
           {
            "bin_end": 3.364516186335785,
            "bin_start": 3.264516186335785,
            "count": 0
           }
          ],
          "max": "2.864516186335785",
          "min": "2.864516186335785",
          "nan_count": 0,
          "unique_count": 1
         }
        },
        {
         "dtype": "float64",
         "name": "min",
         "stats": {
          "histogram": [
           {
            "bin_end": -0.4,
            "bin_start": -0.5,
            "count": 0
           },
           {
            "bin_end": -0.3,
            "bin_start": -0.4,
            "count": 0
           },
           {
            "bin_end": -0.19999999999999996,
            "bin_start": -0.3,
            "count": 0
           },
           {
            "bin_end": -0.09999999999999998,
            "bin_start": -0.19999999999999996,
            "count": 0
           },
           {
            "bin_end": 0,
            "bin_start": -0.09999999999999998,
            "count": 0
           },
           {
            "bin_end": 0.10000000000000009,
            "bin_start": 0,
            "count": 1
           },
           {
            "bin_end": 0.20000000000000007,
            "bin_start": 0.10000000000000009,
            "count": 0
           },
           {
            "bin_end": 0.30000000000000004,
            "bin_start": 0.20000000000000007,
            "count": 0
           },
           {
            "bin_end": 0.4,
            "bin_start": 0.30000000000000004,
            "count": 0
           },
           {
            "bin_end": 0.5,
            "bin_start": 0.4,
            "count": 0
           }
          ],
          "max": "0.0",
          "min": "0.0",
          "nan_count": 0,
          "unique_count": 1
         }
        },
        {
         "dtype": "int64",
         "name": "_deepnote_index_column"
        }
       ],
       "row_count": 1,
       "rows": [
        {
         "_deepnote_index_column": 0,
         "count": 1081,
         "max": 21.8799991607666,
         "mean": 2.864516186335785,
         "min": 0
        }
       ]
      },
      "text/html": [
       "<div>\n",
       "<style scoped>\n",
       "    .dataframe tbody tr th:only-of-type {\n",
       "        vertical-align: middle;\n",
       "    }\n",
       "\n",
       "    .dataframe tbody tr th {\n",
       "        vertical-align: top;\n",
       "    }\n",
       "\n",
       "    .dataframe thead th {\n",
       "        text-align: right;\n",
       "    }\n",
       "</style>\n",
       "<table border=\"1\" class=\"dataframe\">\n",
       "  <thead>\n",
       "    <tr style=\"text-align: right;\">\n",
       "      <th></th>\n",
       "      <th>count</th>\n",
       "      <th>max</th>\n",
       "      <th>mean</th>\n",
       "      <th>min</th>\n",
       "    </tr>\n",
       "  </thead>\n",
       "  <tbody>\n",
       "    <tr>\n",
       "      <th>0</th>\n",
       "      <td>1081.0</td>\n",
       "      <td>21.879999</td>\n",
       "      <td>2.864516</td>\n",
       "      <td>0.0</td>\n",
       "    </tr>\n",
       "  </tbody>\n",
       "</table>\n",
       "</div>"
      ],
      "text/plain": [
       "    count        max      mean  min\n",
       "0  1081.0  21.879999  2.864516  0.0"
      ]
     },
     "metadata": {},
     "output_type": "display_data"
    }
   ],
   "source": [
    "# Aggregate count, min, mean, and max on the trip distance\n",
    "a1_resp = table_taxi_obj.aggregate_statistics(\n",
    "    column_name=\"trip_distance\",\n",
    "    stats=\"count, min, mean, max\"\n",
    ")\n",
    "print(\"Summary statistics for trip distance\")\n",
    "display(pd.DataFrame([a1_resp['stats']]))\n"
   ]
  },
  {
   "cell_type": "markdown",
   "metadata": {
    "cell_id": "c73afaae-84c9-463d-8eff-5a6f563021f1",
    "deepnote_app_coordinates": {
     "h": 5,
     "w": 12,
     "x": 0,
     "y": 0
    },
    "deepnote_cell_height": 100.390625,
    "deepnote_cell_type": "markdown",
    "tags": []
   },
   "source": [
    "### Aggregate Example 2\n",
    "[`aggregate_unique()`](https://docs.kinetica.com/7.1/api/python/frame/source/gpudb.html?highlight=aggregate_statistics#gpudb.GPUdb.aggregate_statistics) returns unique values from a particular column in a table or a view."
   ]
  },
  {
   "cell_type": "code",
   "execution_count": null,
   "metadata": {
    "cell_id": "68ea34a6-7709-49f4-8109-e727c7bfe690",
    "deepnote_app_coordinates": {
     "h": 5,
     "w": 12,
     "x": 0,
     "y": 0
    },
    "deepnote_cell_height": 433.5,
    "deepnote_cell_type": "code",
    "deepnote_to_be_reexecuted": false,
    "execution_millis": 265,
    "execution_start": 1647575382334,
    "source_hash": "e5a10994",
    "tags": []
   },
   "outputs": [
    {
     "name": "stdout",
     "output_type": "stream",
     "text": [
      "Unique vendor IDs in the Taxi table:\n",
      "\t* CMT\n",
      "\t* DDS\n",
      "\t* LYFT\n",
      "\t* NYC\n",
      "\t* UBER\n",
      "\t* VTS\n",
      "\t* YCAB\n"
     ]
    }
   ],
   "source": [
    "# Find unique taxi vendor IDs\n",
    "a2_resp = table_taxi_obj.aggregate_unique(\n",
    "    column_name=\"vendor_id\",\n",
    "    offset=0,\n",
    "    limit=gpudb.GPUdb.END_OF_SET,\n",
    "    encoding=\"json\"\n",
    ")[\"data\"][\"vendor_id\"]\n",
    "\n",
    "print(\"Unique vendor IDs in the Taxi table:\")\n",
    "for vendor in a2_resp:\n",
    "    print(\"\\t* {}\".format(vendor))"
   ]
  },
  {
   "cell_type": "markdown",
   "metadata": {
    "cell_id": "fffb3c9c-26bb-4826-a3d7-b5a9f5b86254",
    "deepnote_app_coordinates": {
     "h": 5,
     "w": 12,
     "x": 0,
     "y": 0
    },
    "deepnote_cell_height": 145.171875,
    "deepnote_cell_type": "markdown",
    "tags": []
   },
   "source": [
    "### Aggregate Example 3\n",
    "[`aggregate_group_by()`](https://docs.kinetica.com/7.1/api/python/frame/source/gpudb.html?highlight=aggregate_#gpudb.GPUdb.aggregate_group_by) is analogous to `SELECT... GROUP BY` in SQL. It can be used to compute aggregate statistics on groups within the data. The groups can be built from one or more columns in the table. For this example we calculate the total number of trips that per vendor.\n"
   ]
  },
  {
   "cell_type": "code",
   "execution_count": null,
   "metadata": {
    "cell_id": "399eae8b-ca39-4932-8fbb-bb5fdae33f21",
    "deepnote_app_coordinates": {
     "h": 5,
     "w": 12,
     "x": 0,
     "y": 0
    },
    "deepnote_cell_height": 737.1875,
    "deepnote_cell_type": "code",
    "deepnote_to_be_reexecuted": false,
    "execution_millis": 264,
    "execution_start": 1647575382336,
    "source_hash": "39b894f",
    "tags": []
   },
   "outputs": [
    {
     "name": "stdout",
     "output_type": "stream",
     "text": [
      "Number of trips per vendor:\n"
     ]
    },
    {
     "data": {
      "application/vnd.deepnote.dataframe.v3+json": {
       "column_count": 2,
       "columns": [
        {
         "dtype": "object",
         "name": "vendor_id",
         "stats": {
          "categories": [
           {
            "count": 1,
            "name": "CMT"
           },
           {
            "count": 1,
            "name": "DDS"
           },
           {
            "count": 5,
            "name": "5 others"
           }
          ],
          "nan_count": 0,
          "unique_count": 7
         }
        },
        {
         "dtype": "int64",
         "name": "COUNT(vendor_id)",
         "stats": {
          "histogram": [
           {
            "bin_end": 28.9,
            "bin_start": 3,
            "count": 2
           },
           {
            "bin_end": 54.8,
            "bin_start": 28.9,
            "count": 0
           },
           {
            "bin_end": 80.69999999999999,
            "bin_start": 54.8,
            "count": 0
           },
           {
            "bin_end": 106.6,
            "bin_start": 80.69999999999999,
            "count": 1
           },
           {
            "bin_end": 132.5,
            "bin_start": 106.6,
            "count": 0
           },
           {
            "bin_end": 158.39999999999998,
            "bin_start": 132.5,
            "count": 0
           },
           {
            "bin_end": 184.29999999999998,
            "bin_start": 158.39999999999998,
            "count": 0
           },
           {
            "bin_end": 210.2,
            "bin_start": 184.29999999999998,
            "count": 0
           },
           {
            "bin_end": 236.1,
            "bin_start": 210.2,
            "count": 2
           },
           {
            "bin_end": 262,
            "bin_start": 236.1,
            "count": 2
           }
          ],
          "max": "262",
          "min": "3",
          "nan_count": 0,
          "unique_count": 6
         }
        },
        {
         "dtype": "int64",
         "name": "_deepnote_index_column"
        }
       ],
       "row_count": 7,
       "rows": [
        {
         "COUNT(vendor_id)": 242,
         "_deepnote_index_column": 0,
         "vendor_id": "CMT"
        },
        {
         "COUNT(vendor_id)": 106,
         "_deepnote_index_column": 1,
         "vendor_id": "DDS"
        },
        {
         "COUNT(vendor_id)": 3,
         "_deepnote_index_column": 2,
         "vendor_id": "LYFT"
        },
        {
         "COUNT(vendor_id)": 262,
         "_deepnote_index_column": 3,
         "vendor_id": "NYC"
        },
        {
         "COUNT(vendor_id)": 3,
         "_deepnote_index_column": 4,
         "vendor_id": "UBER"
        },
        {
         "COUNT(vendor_id)": 229,
         "_deepnote_index_column": 5,
         "vendor_id": "VTS"
        },
        {
         "COUNT(vendor_id)": 236,
         "_deepnote_index_column": 6,
         "vendor_id": "YCAB"
        }
       ]
      },
      "text/html": [
       "<div>\n",
       "<style scoped>\n",
       "    .dataframe tbody tr th:only-of-type {\n",
       "        vertical-align: middle;\n",
       "    }\n",
       "\n",
       "    .dataframe tbody tr th {\n",
       "        vertical-align: top;\n",
       "    }\n",
       "\n",
       "    .dataframe thead th {\n",
       "        text-align: right;\n",
       "    }\n",
       "</style>\n",
       "<table border=\"1\" class=\"dataframe\">\n",
       "  <thead>\n",
       "    <tr style=\"text-align: right;\">\n",
       "      <th></th>\n",
       "      <th>vendor_id</th>\n",
       "      <th>COUNT(vendor_id)</th>\n",
       "    </tr>\n",
       "  </thead>\n",
       "  <tbody>\n",
       "    <tr>\n",
       "      <th>0</th>\n",
       "      <td>CMT</td>\n",
       "      <td>242</td>\n",
       "    </tr>\n",
       "    <tr>\n",
       "      <th>1</th>\n",
       "      <td>DDS</td>\n",
       "      <td>106</td>\n",
       "    </tr>\n",
       "    <tr>\n",
       "      <th>2</th>\n",
       "      <td>LYFT</td>\n",
       "      <td>3</td>\n",
       "    </tr>\n",
       "    <tr>\n",
       "      <th>3</th>\n",
       "      <td>NYC</td>\n",
       "      <td>262</td>\n",
       "    </tr>\n",
       "    <tr>\n",
       "      <th>4</th>\n",
       "      <td>UBER</td>\n",
       "      <td>3</td>\n",
       "    </tr>\n",
       "    <tr>\n",
       "      <th>5</th>\n",
       "      <td>VTS</td>\n",
       "      <td>229</td>\n",
       "    </tr>\n",
       "    <tr>\n",
       "      <th>6</th>\n",
       "      <td>YCAB</td>\n",
       "      <td>236</td>\n",
       "    </tr>\n",
       "  </tbody>\n",
       "</table>\n",
       "</div>"
      ],
      "text/plain": [
       "  vendor_id  COUNT(vendor_id)\n",
       "0       CMT               242\n",
       "1       DDS               106\n",
       "2      LYFT                 3\n",
       "3       NYC               262\n",
       "4      UBER                 3\n",
       "5       VTS               229\n",
       "6      YCAB               236"
      ]
     },
     "metadata": {},
     "output_type": "display_data"
    }
   ],
   "source": [
    "# Find number of trips per vendor\n",
    "a3_resp = table_taxi_obj.aggregate_group_by(\n",
    "    column_names=[\"vendor_id\", \"COUNT(vendor_id)\"],\n",
    "    offset=0,\n",
    "    limit=gpudb.GPUdb.END_OF_SET,\n",
    "    options={\"sort_by\": \"key\"}\n",
    ")[\"data\"]\n",
    "\n",
    "print(\"Number of trips per vendor:\")\n",
    "# for vendor in zip(a3_resp[\"vendor_id\"], a3_resp[\"COUNT(vendor_id)\"]):\n",
    "#     print(\"\\t{:<10s}{:4d}\".format(vendor[0] + \":\", vendor[1]))\n",
    "\n",
    "display(pd.DataFrame(a3_resp))"
   ]
  },
  {
   "cell_type": "markdown",
   "metadata": {
    "cell_id": "c0f69133-77e9-4d14-b185-76fd23de2125",
    "deepnote_app_coordinates": {
     "h": 5,
     "w": 12,
     "x": 0,
     "y": 0
    },
    "deepnote_cell_height": 122.78125,
    "deepnote_cell_type": "markdown",
    "tags": []
   },
   "source": [
    "### Aggregate Example 4\n",
    "[`aggregate_histogram()`](https://docs.kinetica.com/7.1/api/python/frame/source/gpudb.html?highlight=aggregate_#gpudb.GPUdb.aggregate_histogram) performs a histogram calculation given a table, a column, and an interval function. "
   ]
  },
  {
   "cell_type": "code",
   "execution_count": null,
   "metadata": {
    "cell_id": "da398589-2bd4-4bf0-9332-0df1c6f7244b",
    "deepnote_app_coordinates": {
     "h": 5,
     "w": 12,
     "x": 0,
     "y": 0
    },
    "deepnote_cell_height": 487.5,
    "deepnote_cell_type": "code",
    "deepnote_to_be_reexecuted": false,
    "execution_millis": 222,
    "execution_start": 1647575382379,
    "source_hash": "9c8a2b04",
    "tags": []
   },
   "outputs": [
    {
     "name": "stdout",
     "output_type": "stream",
     "text": [
      "Passenger count groups by size:\n",
      "Passengers Total Trips\n",
      "========== ===========\n",
      "         1         775\n",
      "         2         145\n",
      "         3          52\n",
      "         4          22\n",
      "        >5          87\n"
     ]
    }
   ],
   "source": [
    "# Create a histogram for the different groups of passenger counts\n",
    "a4_resp = table_taxi_obj.aggregate_histogram(\n",
    "    column_name=\"passenger_count\",\n",
    "    start=1,\n",
    "    end=6,\n",
    "    interval=1\n",
    ")[\"counts\"]\n",
    "\n",
    "print(\"Passenger count groups by size:\")\n",
    "print(\"{:<10s} {:<11s}\".format(\"Passengers\", \"Total Trips\"))\n",
    "print(\"{:=<10s} {:=<11s}\".format(\"\", \"\"))\n",
    "\n",
    "for histo_group in zip([1, 2, 3, 4, '>5'], a4_resp):\n",
    "    print(\"{:>10} {:11.0f}\".format(*histo_group))"
   ]
  },
  {
   "cell_type": "markdown",
   "metadata": {
    "cell_id": "0d8f1637-07ad-41e5-86ed-c464bfb01cfe",
    "deepnote_app_coordinates": {
     "h": 5,
     "w": 12,
     "x": 0,
     "y": 0
    },
    "deepnote_cell_height": 363.515625,
    "deepnote_cell_type": "markdown",
    "tags": []
   },
   "source": [
    "## Joins\n",
    "[Joins](https://docs.kinetica.com/7.1/concepts/joins/) allow you to link multiple [tables](https://docs.kinetica.com/7.1/concepts/tables/) together, along their relations, retrieving associated information from any or all of them. Tables can only be joined if matching records are co-located i.e. they're [sharded](https://docs.kinetica.com/7.1/concepts/tables/#sharded) similarly or [replicated](https://docs.kinetica.com/7.1/concepts/tables/#replicated). In case, a join is performed when the matching records are not on the same node, the records are [redistributed](https://docs.kinetica.com/7.1/concepts/joins/#distributed-joins) so that they are available on the same nodes. This comes with a performance and memory overhead.\n",
    "\n",
    "Note that the [`create_join_table()`](https://docs.kinetica.com/7.1/api/python/?source/gpudbtable.html#gpudb.GPUdbTable.create_join_table) method is static and is not called with a corresponding [GPUdbTable](https://docs.kinetica.com/7.1/api/python/?source/gpudbtable.html) object.\n",
    "\n",
    "### Inner join\n",
    "An inner join returns only records that have matching values in both tables. The join below is done using the common shard key `payment_id`."
   ]
  },
  {
   "cell_type": "code",
   "execution_count": null,
   "metadata": {
    "cell_id": "09c358f0-4ec4-4d07-a6cf-66663bdf4532",
    "deepnote_app_coordinates": {
     "h": 5,
     "w": 12,
     "x": 0,
     "y": 0
    },
    "deepnote_cell_height": 478.1875,
    "deepnote_cell_type": "code",
    "deepnote_output_heights": [
     21.1875
    ],
    "deepnote_to_be_reexecuted": false,
    "execution_millis": 145,
    "execution_start": 1647575382456,
    "source_hash": "3d0301bf",
    "tags": []
   },
   "outputs": [
    {
     "data": {
      "text/plain": [
       "<gpudb.gpudb.GPUdbTable at 0x7fd1dafda9d0>"
      ]
     },
     "execution_count": 99,
     "metadata": {},
     "output_type": "execute_result"
    }
   ],
   "source": [
    "# Retrieve payment information for rides having more than three passengers\n",
    "gpudb.GPUdbTable.create_join_table(\n",
    "    join_table_name=\"python_dev_guide.join_table_inner\",\n",
    "    table_names=[\n",
    "        \"python_dev_guide.taxi_trips as t\",\n",
    "        \"python_dev_guide.payments as p\"\n",
    "    ],\n",
    "    column_names=[\n",
    "        \"t.payment_id\",\n",
    "        \"payment_type\",\n",
    "        \"total_amount\",\n",
    "        \"passenger_count\",\n",
    "        \"vendor_id\",\n",
    "        \"trip_distance\"\n",
    "    ],\n",
    "    expressions=[\n",
    "        \"t.payment_id = p.payment_id\",\n",
    "        \"passenger_count > 3\"\n",
    "    ],\n",
    "    db=h_db\n",
    ")"
   ]
  },
  {
   "cell_type": "markdown",
   "metadata": {
    "cell_id": "c43b523f-fa7e-4b59-a1a8-25acf41f3512",
    "deepnote_app_coordinates": {
     "h": 5,
     "w": 12,
     "x": 0,
     "y": 0
    },
    "deepnote_cell_height": 203.953125,
    "deepnote_cell_type": "markdown",
    "tags": []
   },
   "source": [
    "### Left join\n",
    "A left join returns all of the records an inner join does, but additionally, for each record in the table on the left side of the join that has no match along the relation to a record in the table on the right side of the join, a corresponding record will be returned with \"left-side\" columns populated with the \"left-side\" record data and the \"right-side\" columns populated with nulls.\n",
    "\n",
    "In this case we are joining the replicated table `taxi_vendors` with the `taxi_trips` table."
   ]
  },
  {
   "cell_type": "code",
   "execution_count": null,
   "metadata": {
    "cell_id": "8ec4c888-1a90-4fe5-a730-6df579ebffe9",
    "deepnote_app_coordinates": {
     "h": 5,
     "w": 12,
     "x": 0,
     "y": 0
    },
    "deepnote_cell_height": 496.1875,
    "deepnote_cell_type": "code",
    "deepnote_output_heights": [
     21.1875
    ],
    "deepnote_to_be_reexecuted": false,
    "execution_millis": 105,
    "execution_start": 1647575382506,
    "source_hash": "632b6463",
    "tags": []
   },
   "outputs": [
    {
     "data": {
      "text/plain": [
       "<gpudb.gpudb.GPUdbTable at 0x7fd1dafd9a00>"
      ]
     },
     "execution_count": 100,
     "metadata": {},
     "output_type": "execute_result"
    }
   ],
   "source": [
    "# Retrieve cab ride transactions and the full name of the associated vendor\n",
    "# (if available--blank if vendor name is unknown) for transactions with\n",
    "# associated payment data, sorting by increasing values of transaction ID.\n",
    "gpudb.GPUdbTable.create_join_table(\n",
    "    join_table_name=\"python_dev_guide.join_table_left\",\n",
    "    table_names=[\n",
    "        \"python_dev_guide.taxi_trips as t\",\n",
    "        \"python_dev_guide.taxi_vendors as v\"\n",
    "    ],\n",
    "    column_names=[\n",
    "        \"transaction_id\",\n",
    "        \"pickup_datetime\",\n",
    "        \"trip_distance\",\n",
    "        \"t.vendor_id\",\n",
    "        \"vendor_name\"\n",
    "    ],\n",
    "    expressions=[\n",
    "        \"LEFT JOIN t, v ON (t.vendor_id = v.vendor_id)\",\n",
    "        \"payment_id <> 0\"\n",
    "    ],\n",
    "    db=h_db\n",
    ")"
   ]
  },
  {
   "cell_type": "markdown",
   "metadata": {
    "cell_id": "43ad0c29-4210-46ab-a193-c8f2edb426ce",
    "deepnote_app_coordinates": {
     "h": 5,
     "w": 12,
     "x": 0,
     "y": 0
    },
    "deepnote_cell_height": 167.5625,
    "deepnote_cell_type": "markdown",
    "tags": []
   },
   "source": [
    "### Outer join\n",
    "Full outer joins require both tables to be replicated or joined on their shard keys. Set merges that perform deduplication of records, like [Union Distinct](https://docs.kinetica.com/7.1/concepts/unions/), [Intersect](https://docs.kinetica.com/7.1/concepts/intersect/), and [Except](https://docs.kinetica.com/7.1/concepts/except/) also need to use replicated tables to ensure the correct results, so a replicated version of the taxi (taxi_trip_data_replicated) table and a corresponding table object are created at this point in the tutorial."
   ]
  },
  {
   "cell_type": "code",
   "execution_count": null,
   "metadata": {
    "cell_id": "3e82ae30-9c0f-4384-8563-59d41053b50a",
    "deepnote_app_coordinates": {
     "h": 5,
     "w": 12,
     "x": 0,
     "y": 0
    },
    "deepnote_cell_height": 693,
    "deepnote_cell_type": "code",
    "deepnote_to_be_reexecuted": false,
    "execution_millis": 197,
    "execution_start": 1647575382608,
    "source_hash": "4c2bd5b9",
    "tags": []
   },
   "outputs": [],
   "source": [
    "# Clear any existing table with the same name\n",
    "h_db.clear_table(\n",
    "    table_name=\"python_dev_guide.table_taxi_replicated\", \n",
    "    options={\"no_error_if_not_exists\": True}\n",
    "    )\n",
    "\n",
    "\n",
    "# Copy the records from the taxi trip table to a replicated taxi trip \n",
    "# table using merge_records\n",
    "gpudb.GPUdbTable.merge_records(\n",
    "    table_name=\"python_dev_guide.table_taxi_replicated\", \n",
    "    source_table_names=[\"python_dev_guide.taxi_trips\"],\n",
    "    field_maps=[{\n",
    "        \"transaction_id\": \"transaction_id\",\n",
    "        \"payment_id\": \"payment_id\",\n",
    "        \"vendor_id\": \"vendor_id\",\n",
    "        \"pickup_datetime\": \"pickup_datetime\",\n",
    "        \"dropoff_datetime\": \"dropoff_datetime\",\n",
    "        \"passenger_count\": \"passenger_count\",\n",
    "        \"trip_distance\": \"trip_distance\",\n",
    "        \"pickup_longitude\": \"pickup_longitude\",\n",
    "        \"pickup_latitude\": \"pickup_latitude\",\n",
    "        \"dropoff_longitude\": \"dropoff_longitude\",\n",
    "        \"dropoff_latitude\": \"dropoff_latitude\"\n",
    "    }],\n",
    "    options={\"is_replicated\": \"true\"},\n",
    "    db=h_db\n",
    ")\n",
    "\n",
    "table_taxi_replicated_obj = gpudb.GPUdbTable(\n",
    "        _type=None,\n",
    "        name=\"python_dev_guide.table_taxi_replicated\",\n",
    "        db=h_db\n",
    "        )\n"
   ]
  },
  {
   "cell_type": "markdown",
   "metadata": {
    "cell_id": "4e7345e2-789c-4103-b4a9-81df01e57262",
    "deepnote_app_coordinates": {
     "h": 5,
     "w": 12,
     "x": 0,
     "y": 0
    },
    "deepnote_cell_height": 119.5625,
    "deepnote_cell_type": "markdown",
    "tags": []
   },
   "source": [
    "A full outer join returns all of the records a left join does, but additionally, for each record in the table on the right side of the join that has no match along the relation to a record in the table on the left side of the join, a corresponding record will be returned with \"right-side\" columns populated with the \"right-side\" record data and the \"left-side\" columns populated with nulls."
   ]
  },
  {
   "cell_type": "code",
   "execution_count": null,
   "metadata": {
    "cell_id": "73b057e2-2788-48e0-b122-5cbbdaf4838a",
    "deepnote_app_coordinates": {
     "h": 5,
     "w": 12,
     "x": 0,
     "y": 0
    },
    "deepnote_cell_height": 388.1875,
    "deepnote_cell_type": "code",
    "deepnote_output_heights": [
     21.1875
    ],
    "deepnote_to_be_reexecuted": false,
    "execution_millis": 93,
    "execution_start": 1647575382809,
    "source_hash": "475a1595",
    "tags": []
   },
   "outputs": [
    {
     "data": {
      "text/plain": [
       "<gpudb.gpudb.GPUdbTable at 0x7fd1db00e610>"
      ]
     },
     "execution_count": 102,
     "metadata": {},
     "output_type": "execute_result"
    }
   ],
   "source": [
    "# Retrieve the vendor IDs of known vendors with no recorded cab ride\n",
    "# transactions, as well as the vendor ID and number of transactions for\n",
    "# unknown vendors with recorded cab ride transactions\n",
    "gpudb.GPUdbTable.create_join_table(\n",
    "    join_table_name=\"python_dev_guide.join_table_outer\",\n",
    "    table_names=[\n",
    "        \"python_dev_guide.table_taxi_replicated as t\",\n",
    "        \"python_dev_guide.taxi_vendors as v\"\n",
    "    ],\n",
    "    column_names=[\n",
    "        \"t.vendor_id as vendor_id\",\n",
    "        \"v.vendor_id as vendor_id_1\"\n",
    "    ],\n",
    "    expressions=[\"FULL_OUTER JOIN t,v ON ((v.vendor_id = t.vendor_id))\"],\n",
    "    db=h_db\n",
    ")"
   ]
  },
  {
   "cell_type": "markdown",
   "metadata": {
    "cell_id": "08e70b28-5983-4135-8388-abccd3281c43",
    "deepnote_app_coordinates": {
     "h": 5,
     "w": 12,
     "x": 0,
     "y": 0
    },
    "deepnote_cell_height": 388.6875,
    "deepnote_cell_type": "markdown",
    "tags": []
   },
   "source": [
    "## Materialized Views\n",
    "A [materialized view](https://docs.kinetica.com/7.1/concepts/materialized_views/) is a great way to improve query performance and manage updates when one or more of the input tables for a particular query are updated. There are three steps for creating a materialized view using the python API.\n",
    "\n",
    "1. The first step for creating a materialized view is to reserve its step. \n",
    "2. Issue requests against the input tables and against any result tables created by those requests, tagging each result table created with the unique ID for the materialized view.\n",
    "3. Issue the final processing request, naming the resulting table with the reserved name of the materialized view and tagging it with the unique ID. This member table becomes the root table and the materialized view creation sequence is complete.\n",
    "\n",
    "Below we create a materialized view (`long_rides`) on a single table (`taxi_trips`) that show records where the trip distance was greater than 20. The materialized view is set to refresh on change. This implies that any changes to the input table i.e. `taxi_trips` will refresh the materialized view as well."
   ]
  },
  {
   "cell_type": "code",
   "execution_count": null,
   "metadata": {
    "cell_id": "c200449a-ef2f-4660-bea9-a5aa8454b614",
    "deepnote_app_coordinates": {
     "h": 5,
     "w": 12,
     "x": 0,
     "y": 0
    },
    "deepnote_cell_height": 135,
    "deepnote_cell_type": "code",
    "deepnote_to_be_reexecuted": false,
    "execution_millis": 31,
    "execution_start": 1647575382903,
    "source_hash": "73921e4d",
    "tags": []
   },
   "outputs": [],
   "source": [
    "view_id = h_db.create_materialized_view(\n",
    "    table_name = 'python_dev_guide.long_rides',\n",
    "    options = {'refresh_method': 'on_change'}\n",
    ")['view_id']"
   ]
  },
  {
   "cell_type": "code",
   "execution_count": null,
   "metadata": {
    "cell_id": "8a388adf-4618-4075-acef-d7508cb12323",
    "deepnote_app_coordinates": {
     "h": 5,
     "w": 12,
     "x": 0,
     "y": 0
    },
    "deepnote_cell_height": 171,
    "deepnote_cell_type": "code",
    "deepnote_to_be_reexecuted": false,
    "execution_millis": 27,
    "execution_start": 1647575382939,
    "source_hash": "a9bec984",
    "tags": []
   },
   "outputs": [],
   "source": [
    "retobj = h_db.filter(\n",
    "    table_name = 'python_dev_guide.taxi_trips',\n",
    "    view_name = 'python_dev_guide.long_rides',\n",
    "    expression = 'trip_distance > 20',\n",
    "    options = {'view_id': view_id}\n",
    ")"
   ]
  },
  {
   "cell_type": "markdown",
   "metadata": {
    "cell_id": "6c5b1511-6697-448a-9d54-2b71d14b43ab",
    "deepnote_app_coordinates": {
     "h": 5,
     "w": 12,
     "x": 0,
     "y": 0
    },
    "deepnote_cell_height": 119.5625,
    "deepnote_cell_type": "markdown",
    "tags": []
   },
   "source": [
    "Now let's insert three records into the input table for the materialized view `taxi_trips` with trip distances that are greater than 20. Since we have setup the materialized view to refresh on change, the new records should also show up in the materialized view since they are above the threshold of 20 for trip distance."
   ]
  },
  {
   "cell_type": "code",
   "execution_count": null,
   "metadata": {
    "cell_id": "25a61f6a-316f-401f-b46e-2ace28a29d61",
    "deepnote_app_coordinates": {
     "h": 5,
     "w": 12,
     "x": 0,
     "y": 0
    },
    "deepnote_cell_height": 454.1875,
    "deepnote_cell_type": "code",
    "deepnote_to_be_reexecuted": false,
    "execution_millis": 314,
    "execution_start": 1647575401845,
    "source_hash": "174e9eb6",
    "tags": []
   },
   "outputs": [
    {
     "name": "stdout",
     "output_type": "stream",
     "text": [
      "Number of records in materialized view after update: 3\n"
     ]
    }
   ],
   "source": [
    "materialized_table_size_before = gpudb.GPUdbTable(\n",
    "    name=\"python_dev_guide.taxi_trips\",\n",
    "    db=h_db).size()\n",
    "# Create another list of in-line records\n",
    "long_trips = [\n",
    "    [863112903, 0, \"YCAB\", 1429106020010, 1429109952010, 2, 20.5, -73.6839432, 40.7186531, -73.8890213, 40.7978091],\n",
    "    [863112904, 0, \"NYC\", 1430238497000, 1430235544000, 1, 21.87, -74.0039432, 40.6896518, -73.7890213, 40.6378091],\n",
    "    [863112905, 0, \"NYC\", 1261019636000, 1261021971000, 3, 29.36, -74.0139432, 40.6786515, -73.690213, 40.8678091]\n",
    "]\n",
    "\n",
    "# Insert the records into the taxi trips table\n",
    "for record in long_trips:\n",
    "    table_taxi_obj.insert_records(record)\n",
    "\n",
    "materialized_table_size_after_update = gpudb.GPUdbTable(\n",
    "    name=\"python_dev_guide.taxi_trips\",\n",
    "    db=h_db).size()\n",
    "print(\"Number of records added to materialized view after update: {}\".format(\n",
    "    materialized_table_size_after_update - materialized_table_size_before\n",
    "))"
   ]
  },
  {
   "cell_type": "markdown",
   "metadata": {
    "cell_id": "a83ad7db-9d72-4411-b67f-68bc51579b4b",
    "deepnote_app_coordinates": {
     "h": 5,
     "w": 12,
     "x": 0,
     "y": 0
    },
    "deepnote_cell_height": 683.90625,
    "deepnote_cell_type": "markdown",
    "tags": []
   },
   "source": [
    "## Projections\n",
    "You can create [projections](https://docs.kinetica.com/7.1/concepts/projections/) using the [`create_projection()`](https://docs.kinetica.com/7.1/api/python/?source/gpudbtable.html#gpudb.GPUdbTable.create_projection) method. A projection is a concept unique to Kinetica. It represents a set of columns from and/or column expressions applied to a source data set (table or view). Projections are memory-only tables by default, but can be persisted (like a table) using the persist option. Projections have several advantages.\n",
    "\n",
    "* Because a projection is a copy of your data, querying the projection will be faster than querying a join. You could create a projection of a join to increase the speed of queries against the data set. This also means derived columns and join lookups are precalculated\n",
    "* A projection can be sharded on entirely different columns than its source table or view; a projection can also be sharded even if its source table or view is randomly sharded or replicated\n",
    "* A projection can also be replicated even if its source table is sharded"
   ]
  },
  {
   "cell_type": "code",
   "execution_count": null,
   "metadata": {
    "cell_id": "1f1c6c1f-f562-4b4c-9f89-6350dd666def",
    "deepnote_app_coordinates": {
     "h": 5,
     "w": 12,
     "x": 0,
     "y": 0
    },
    "deepnote_cell_height": 432.1875,
    "deepnote_cell_type": "code",
    "deepnote_to_be_reexecuted": false,
    "execution_millis": 231,
    "execution_start": 1647474710991,
    "source_hash": "e88e83e0",
    "tags": []
   },
   "outputs": [
    {
     "ename": "NameError",
     "evalue": "name 'table_payment_obj' is not defined",
     "output_type": "error",
     "traceback": [
      "\u001b[0;31m---------------------------------------------------------------------------\u001b[0m",
      "\u001b[0;31mNameError\u001b[0m                                 Traceback (most recent call last)",
      "\u001b[0;32m<ipython-input-1-831cbac21c1c>\u001b[0m in \u001b[0;36m<cell line: 2>\u001b[0;34m()\u001b[0m\n\u001b[1;32m      1\u001b[0m \u001b[0;31m# Create a projection containing all payments by credit card\u001b[0m\u001b[0;34m\u001b[0m\u001b[0;34m\u001b[0m\u001b[0;34m\u001b[0m\u001b[0m\n\u001b[0;32m----> 2\u001b[0;31m table_payment_obj.create_projection(\n\u001b[0m\u001b[1;32m      3\u001b[0m     \u001b[0mprojection_name\u001b[0m\u001b[0;34m=\u001b[0m\u001b[0;34m\"python_dev_guide.projection_example1\"\u001b[0m\u001b[0;34m,\u001b[0m\u001b[0;34m\u001b[0m\u001b[0;34m\u001b[0m\u001b[0m\n\u001b[1;32m      4\u001b[0m     column_names=[\n\u001b[1;32m      5\u001b[0m         \u001b[0;34m\"payment_id\"\u001b[0m\u001b[0;34m,\u001b[0m\u001b[0;34m\u001b[0m\u001b[0;34m\u001b[0m\u001b[0m\n",
      "\u001b[0;31mNameError\u001b[0m: name 'table_payment_obj' is not defined"
     ]
    }
   ],
   "source": [
    "# Create a projection containing all payments by credit card\n",
    "table_payment_obj.create_projection(\n",
    "    projection_name=\"python_dev_guide.projection_example1\",\n",
    "    column_names=[\n",
    "        \"payment_id\",\n",
    "        \"payment_type\",\n",
    "        \"credit_type\",\n",
    "        \"payment_timestamp\",\n",
    "        \"fare_amount\",\n",
    "        \"surcharge\",\n",
    "        \"mta_tax\",\n",
    "        \"tip_amount\",\n",
    "        \"tolls_amount\",\n",
    "        \"total_amount\"\n",
    "    ],\n",
    "    options={\"expression\": \"payment_type = 'Credit'\"}\n",
    ")"
   ]
  },
  {
   "cell_type": "markdown",
   "metadata": {
    "cell_id": "57faa58b-17f7-430e-99ce-24820f751030",
    "deepnote_app_coordinates": {
     "h": 5,
     "w": 12,
     "x": 0,
     "y": 0
    },
    "deepnote_cell_height": 52.390625,
    "deepnote_cell_type": "markdown",
    "tags": []
   },
   "source": [
    "To persist a projection:\n",
    "\n"
   ]
  },
  {
   "cell_type": "code",
   "execution_count": null,
   "metadata": {
    "cell_id": "20ff0ff3-ff34-4ef1-8473-e3ff17aae02d",
    "deepnote_app_coordinates": {
     "h": 5,
     "w": 12,
     "x": 0,
     "y": 0
    },
    "deepnote_cell_height": 424.1875,
    "deepnote_cell_type": "code",
    "deepnote_output_heights": [
     21.1875
    ],
    "deepnote_to_be_reexecuted": false,
    "execution_millis": 124,
    "execution_start": 1646165787942,
    "source_hash": "abeb218a",
    "tags": []
   },
   "outputs": [
    {
     "data": {
      "text/plain": [
       "<gpudb.gpudb.GPUdbTable at 0x7f076afbac40>"
      ]
     },
     "execution_count": 31,
     "metadata": {},
     "output_type": "execute_result"
    }
   ],
   "source": [
    "# Create a persisted table with cab ride transactions greater than 5 miles\n",
    "# whose trip started during lunch hours\n",
    "table_taxi_obj.create_projection(\n",
    "    projection_name=\"python_dev_guide.projection_example2\",\n",
    "    column_names=[\n",
    "        \"HOUR(pickup_datetime) as hour_of_day\",\n",
    "        \"vendor_id\",\n",
    "        \"passenger_count\",\n",
    "        \"trip_distance\"\n",
    "    ],\n",
    "    options={\n",
    "        \"expression\":\n",
    "            \"(HOUR(pickup_datetime) >= 11) AND \"\n",
    "            \"(HOUR(pickup_datetime) <= 14) AND \"\n",
    "            \"(trip_distance > 5)\",\n",
    "        \"persist\": \"true\"\n",
    "    }\n",
    ")"
   ]
  },
  {
   "cell_type": "markdown",
   "metadata": {
    "cell_id": "40c0b042-29f0-4451-bacf-ca43bff6abf9",
    "deepnote_app_coordinates": {
     "h": 5,
     "w": 12,
     "x": 0,
     "y": 0
    },
    "deepnote_cell_height": 175.5625,
    "deepnote_cell_type": "markdown",
    "tags": []
   },
   "source": [
    "## Union, Intersect, and Except\n",
    "[Union](https://docs.kinetica.com/7.1/concepts/unions/) can be used to combine homogeneous data sets into one larger data set. Union & Union Distinct will both combine data sets but only retain the records that are unique across the chosen columns, removing all duplicates. Union All will combine data sets, retaining all records from the source data sets."
   ]
  },
  {
   "cell_type": "code",
   "execution_count": null,
   "metadata": {
    "cell_id": "2e774ee9-c50d-4f90-ae9a-e30ba00eaabc",
    "deepnote_app_coordinates": {
     "h": 5,
     "w": 12,
     "x": 0,
     "y": 0
    },
    "deepnote_cell_height": 1162.1875,
    "deepnote_cell_type": "code",
    "deepnote_output_heights": [
     21.1875
    ],
    "deepnote_to_be_reexecuted": false,
    "execution_millis": 238,
    "execution_start": 1646165788066,
    "source_hash": "13310f92",
    "tags": []
   },
   "outputs": [
    {
     "data": {
      "text/plain": [
       "<gpudb.gpudb.GPUdbTable at 0x7f076afcadc0>"
      ]
     },
     "execution_count": 32,
     "metadata": {},
     "output_type": "execute_result"
    }
   ],
   "source": [
    "# Calculate the average number of passengers, as well as the shortest,\n",
    "# average, and longest trips for all trips in\n",
    "# each of the two time periods--from April 1st through the 15th, 2015 and\n",
    "# from April 16th through the 23rd, 2015--and return those two sets of\n",
    "# statistics in a single result set.\n",
    "table_taxi_obj.aggregate_group_by(\n",
    "    column_names=[\n",
    "        \"AVG(passenger_count) as avg_pass_count\",\n",
    "        \"AVG(trip_distance) as avg_trip_dist\",\n",
    "        \"MIN(trip_distance) as min_trip_dist\",\n",
    "        \"MAX(trip_distance) as max_trip_dist\"\n",
    "    ],\n",
    "    offset=0,\n",
    "    limit=gpudb.GPUdb.END_OF_SET,\n",
    "    options={\n",
    "        \"expression\":\n",
    "            \"(pickup_datetime >= '2015-04-01') AND \"\n",
    "            \"(pickup_datetime <= '2015-04-15 23:59:59.999')\",\n",
    "        \"result_table\": \"python_dev_guide.agg_grpby_union_all_src1\"\n",
    "    }\n",
    ")\n",
    "table_taxi_obj.aggregate_group_by(\n",
    "    column_names=[\n",
    "        \"AVG(passenger_count) as avg_pass_count\",\n",
    "        \"AVG(trip_distance) as avg_trip_dist\",\n",
    "        \"MIN(trip_distance) as min_trip_dist\",\n",
    "        \"MAX(trip_distance) as max_trip_dist\"\n",
    "    ],\n",
    "    offset=0,\n",
    "    limit=gpudb.GPUdb.END_OF_SET,\n",
    "    options={\n",
    "        \"expression\":\n",
    "            \"(pickup_datetime >= '2015-04-16') AND \"\n",
    "            \"(pickup_datetime <= '2015-04-23 23:59:59.999')\",\n",
    "        \"result_table\": \"python_dev_guide.agg_grpby_union_all_src2\"\n",
    "    }\n",
    ")\n",
    "gpudb.GPUdbTable.create_union(\n",
    "    table_name=\"python_dev_guide.union_all_table\",\n",
    "    table_names=[\n",
    "        \"python_dev_guide.agg_grpby_union_all_src1\",\n",
    "        \"python_dev_guide.agg_grpby_union_all_src2\"\n",
    "    ],\n",
    "    input_column_names=[\n",
    "        [\"'2015-04-01 - 2014-04-15'\", \"avg_pass_count\",\n",
    "            \"avg_trip_dist\", \"min_trip_dist\", \"max_trip_dist\"],\n",
    "        [\"'2015-04-16 - 2015-04-23'\", \"avg_pass_count\",\n",
    "            \"avg_trip_dist\", \"min_trip_dist\", \"max_trip_dist\"]\n",
    "    ],\n",
    "    output_column_names=[\n",
    "        \"pickup_window_range\",\n",
    "        \"avg_pass_count\",\n",
    "        \"avg_trip\",\n",
    "        \"min_trip\",\n",
    "        \"max_trip\"\n",
    "    ],\n",
    "    options={\"mode\": \"union_all\"},\n",
    "    db=h_db\n",
    ")"
   ]
  },
  {
   "cell_type": "markdown",
   "metadata": {
    "cell_id": "be874df9-389d-4739-aeb1-ae0f585a412e",
    "deepnote_app_coordinates": {
     "h": 5,
     "w": 12,
     "x": 0,
     "y": 0
    },
    "deepnote_cell_height": 74.78125,
    "deepnote_cell_type": "markdown",
    "tags": []
   },
   "source": [
    "[Intersect](https://docs.kinetica.com/7.1/concepts/intersect/) will combine data sets but only include the records found in both data sets, removing duplicate result records."
   ]
  },
  {
   "cell_type": "code",
   "execution_count": null,
   "metadata": {
    "cell_id": "33fe40f7-177f-429b-9482-94e9ab0eff62",
    "deepnote_app_coordinates": {
     "h": 5,
     "w": 12,
     "x": 0,
     "y": 0
    },
    "deepnote_cell_height": 388.1875,
    "deepnote_cell_type": "code",
    "deepnote_to_be_reexecuted": false,
    "execution_millis": 82,
    "execution_start": 1646165788306,
    "source_hash": "d837279a",
    "tags": []
   },
   "outputs": [
    {
     "data": {
      "text/plain": [
       "<gpudb.gpudb.GPUdbTable at 0x7f076afa6550>"
      ]
     },
     "execution_count": 33,
     "metadata": {},
     "output_type": "execute_result"
    }
   ],
   "source": [
    "# Retrieve locations (as lat/lon pairs) that were both pick-up and\n",
    "# drop-off points\n",
    "gpudb.GPUdbTable.create_union(\n",
    "    table_name=\"python_dev_guide.union_intersect_table\",\n",
    "    table_names=[\n",
    "        \"python_dev_guide.table_taxi_replicated\",\n",
    "        \"python_dev_guide.table_taxi_replicated\"\n",
    "    ],\n",
    "    input_column_names=[\n",
    "        [\"pickup_latitude\", \"pickup_longitude\"],\n",
    "        [\"dropoff_latitude\", \"dropoff_longitude\"]\n",
    "    ],\n",
    "    output_column_names=[\"latitude\", \"longitude\"],\n",
    "    options={\"mode\": \"intersect\"},\n",
    "    db=h_db\n",
    ")"
   ]
  },
  {
   "cell_type": "markdown",
   "metadata": {
    "cell_id": "73d1624c-a2a9-4d22-bbf7-89e30965980d",
    "deepnote_app_coordinates": {
     "h": 5,
     "w": 12,
     "x": 0,
     "y": 0
    },
    "deepnote_cell_height": 97.171875,
    "deepnote_cell_type": "markdown",
    "tags": []
   },
   "source": [
    "[Except](https://docs.kinetica.com/7.1/concepts/except/) will return records that appear in the first data set but not the second data set. Note that the data sets on each side of the Except will have duplicates removed first, and then the set subtraction will be processed."
   ]
  },
  {
   "cell_type": "code",
   "execution_count": null,
   "metadata": {
    "cell_id": "6f9d1edf-36b6-4e2e-9242-331751efeffa",
    "deepnote_app_coordinates": {
     "h": 5,
     "w": 12,
     "x": 0,
     "y": 0
    },
    "deepnote_cell_height": 748.1875,
    "deepnote_cell_type": "code",
    "deepnote_to_be_reexecuted": false,
    "execution_millis": 556,
    "execution_start": 1646165788391,
    "source_hash": "12a94d95",
    "tags": []
   },
   "outputs": [
    {
     "data": {
      "text/plain": [
       "<gpudb.gpudb.GPUdbTable at 0x7f076afb6fa0>"
      ]
     },
     "execution_count": 34,
     "metadata": {},
     "output_type": "execute_result"
    }
   ],
   "source": [
    "# Show vendors that operate before noon, but not after noon: retrieve the\n",
    "# unique list of IDs of vendors who provided cab rides between midnight\n",
    "# and noon, and remove from that list the IDs of any vendors who provided\n",
    "# cab rides between noon and midnight\n",
    "table_taxi_replicated_obj.create_projection(\n",
    "    projection_name=\"python_dev_guide.projection_except_src1\",\n",
    "    column_names=[\"vendor_id\"],\n",
    "    options={\n",
    "        \"expression\":\n",
    "            \"(HOUR(pickup_datetime) >= 0) AND \"\n",
    "            \"(HOUR(pickup_datetime) <= 11)\"\n",
    "    }\n",
    ")\n",
    "table_taxi_replicated_obj.create_projection(\n",
    "    projection_name=\"python_dev_guide.projection_except_src2\",\n",
    "    column_names=[\"vendor_id\"],\n",
    "    options={\n",
    "        \"expression\":\n",
    "            \"(HOUR(pickup_datetime) >= 12) AND \"\n",
    "            \"(HOUR(pickup_datetime) <= 23)\"\n",
    "    }\n",
    ")\n",
    "gpudb.GPUdbTable.create_union(\n",
    "    table_name=\"python_dev_guide.union_except_table\",\n",
    "    table_names=[\n",
    "        \"python_dev_guide.projection_except_src1\",\n",
    "        \"python_dev_guide.projection_except_src2\"\n",
    "    ],\n",
    "    input_column_names=[\n",
    "        [\"vendor_id\"],\n",
    "        [\"vendor_id\"]\n",
    "    ],\n",
    "    output_column_names=[\"vendor_id\"],\n",
    "    options={\"mode\": \"except\"},\n",
    "    db=h_db\n",
    ")"
   ]
  },
  {
   "cell_type": "markdown",
   "metadata": {
    "cell_id": "c8610016-94ae-4cc5-b356-1d8c73a5c1db",
    "deepnote_app_coordinates": {
     "h": 5,
     "w": 12,
     "x": 0,
     "y": 0
    },
    "deepnote_cell_height": 108.390625,
    "deepnote_cell_type": "markdown",
    "tags": []
   },
   "source": [
    "## Wrap up\n",
    "Add further resources and next steps."
   ]
  },
  {
   "cell_type": "markdown",
   "metadata": {
    "created_in_deepnote_cell": true,
    "deepnote_cell_type": "markdown",
    "tags": []
   },
   "source": [
    "<a style='text-decoration:none;line-height:16px;display:flex;color:#5B5B62;padding:10px;justify-content:end;' href='https://deepnote.com?utm_source=created-in-deepnote-cell&projectId=3504dc9a-cf94-4c79-ba37-d319423beb20' target=\"_blank\">\n",
    "<img alt='Created in deepnote.com' style='display:inline;max-height:16px;margin:0px;margin-right:7.5px;' src='data:image/svg+xml;base64,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' > </img>\n",
    "Created in <span style='font-weight:600;margin-left:4px;'>Deepnote</span></a>"
   ]
  }
 ],
 "metadata": {
  "deepnote": {},
  "deepnote_app_layout": "article",
  "deepnote_execution_queue": [],
  "deepnote_notebook_id": "1e5331e8-f491-4f91-a0ba-fc38aa990092",
  "kernelspec": {
   "display_name": "Python 3 (ipykernel)",
   "language": "python",
   "name": "python3"
  },
  "language_info": {
   "codemirror_mode": {
    "name": "ipython",
    "version": 3
   },
   "file_extension": ".py",
   "mimetype": "text/x-python",
   "name": "python",
   "nbconvert_exporter": "python",
   "pygments_lexer": "ipython3",
   "version": "3.8.2"
  }
 },
 "nbformat": 4,
 "nbformat_minor": 5
}
