{
 "cells": [
  {
   "cell_type": "markdown",
   "metadata": {},
   "source": [
    "<h3 align=\"center\" style=\"margin:0px\">\n",
    "    <img width=\"200\" src=\"../_assets/images/logo_purple.png\" alt=\"Kinetica Logo\"/>\n",
    "</h3>\n",
    "<h5 align=\"center\" style=\"margin:0px\">\n",
    "    <a href=\"https://www.kinetica.com/\">Website</a>\n",
    "    <span> | </span>\n",
    "    <a href=\"https://docs.kinetica.com/7.2/\">Docs</a>\n",
    "    <span> | </span>\n",
    "    <a href=\"https://docs.kinetica.com/7.2/api/\">API Docs</a>\n",
    "    <span> | </span>\n",
    "    <a href=\"https://join.slack.com/t/kinetica-community/shared_invite/zt-1bt9x3mvr-uMKrXlSDXfy3oU~sKi84qg\">Community Slack</a>   \n",
    "</h5>"
   ]
  },
  {
   "cell_type": "markdown",
   "metadata": {},
   "source": [
    "# Using GPUdbSqlIterator and GPUdbIngestor \n",
    "\n",
    "Learn about using `GPUdbSqlIterator` for conveniently retrieving large result sets and `GPUdbIngestor` for multi-head ingest.\n",
    "\n",
    "## Overview\n",
    "\n",
    "https://docs.kinetica.com/7.2/api/python/\n",
    "\n",
    "The [GPUdbIngestor](https://docs.kinetica.com/7.2/api/python/frame/source/gpudbingestor.html#) class facilities high speed multi head ingest. In this example we will use the python `faker` package to generate test data. we will then bulk insert the data using `GPUdbIngestor`.\n",
    "\n",
    "The `GPUdbSqlIterator` class makes retrieval of large result sets easy because it transparently fetches batches and handles generation of result tables. It is accessed through convenience functions and we will cover some use cases:\n",
    "\n",
    "* Using `GPUdb.execute()` to create a table.\n",
    "* Using `GPUdb.query_one()` to get the result of a group by.\n",
    "* Using `GPUDb.query()` and `GPUdbSqlIterator` to iterate through results.\n",
    "* Fetching a result with SQL parameters."
   ]
  },
  {
   "cell_type": "code",
   "execution_count": 1,
   "metadata": {},
   "outputs": [
    {
     "name": "stdout",
     "output_type": "stream",
     "text": [
      "Note: you may need to restart the kernel to use updated packages.\n",
      "Note: you may need to restart the kernel to use updated packages.\n",
      "Note: you may need to restart the kernel to use updated packages.\n"
     ]
    }
   ],
   "source": [
    "# install Kinetica package and dataframe dependencies\n",
    "%pip install -U -q 'gpudb>=7.2' typeguard pandas pyarrow\n",
    "\n",
    "# packages used in this notebook\n",
    "%pip install -U -q 'gpudb>=7.2' faker\n",
    "\n",
    "# install packages needed for Jupyter widgets\n",
    "%pip install -U -q ipykernel ipywidgets"
   ]
  },
  {
   "cell_type": "markdown",
   "metadata": {},
   "source": [
    "## Connect to Kinetica"
   ]
  },
  {
   "cell_type": "code",
   "execution_count": 2,
   "metadata": {},
   "outputs": [
    {
     "name": "stderr",
     "output_type": "stream",
     "text": [
      "2024-02-23 17:36:45.372 WARNING  [GPUdb] Client version (7.2.0.1) does not match that of the server (7.1.9.29)\n",
      "2024-02-23 17:36:45.373 WARNING  [GPUdb] API and server versions don't match\n"
     ]
    },
    {
     "name": "stdout",
     "output_type": "stream",
     "text": [
      "Connected to http://172.31.31.29:9191. (version 7.1.9.29)\n"
     ]
    }
   ],
   "source": [
    "from gpudb import GPUdb, GPUdbTable\n",
    "import os\n",
    "\n",
    "HOST = os.environ['KINETICA_URL']\n",
    "USER = os.environ['KINETICA_USER']\n",
    "PASSWORD = os.environ['KINETICA_PASSWD']\n",
    "\n",
    "def create_kdbc(url: str, user: str, password: str) -> GPUdb:\n",
    "    options = GPUdb.Options()\n",
    "    options.username = user\n",
    "    options.password = password\n",
    "    options.skip_ssl_cert_verification = True\n",
    "    options.disable_failover = True\n",
    "    options.logging_level = 'INFO'\n",
    "    kdbc = GPUdb(host=url, options = options)\n",
    "    print(f\"Connected to {kdbc.get_url()}. (version {str(kdbc.server_version)})\")\n",
    "    return kdbc\n",
    "\n",
    "kdbc: GPUdb = create_kdbc(HOST, USER, PASSWORD)\n",
    "\n",
    "TABLE_NAME = \"python_dev_guide.test_users\""
   ]
  },
  {
   "cell_type": "markdown",
   "metadata": {},
   "source": [
    "## Loading data with GPUdbSqlIterator\n",
    "\n",
    "### Use the faker package to create records"
   ]
  },
  {
   "cell_type": "code",
   "execution_count": 3,
   "metadata": {},
   "outputs": [
    {
     "data": {
      "text/plain": [
       "[{'id': 0,\n",
       "  'username': 'eduardo69',\n",
       "  'name': 'Haley Beck',\n",
       "  'sex': 'F',\n",
       "  'address': '59836 Carla Causeway Suite 939\\nPort Eugene, IN 32487',\n",
       "  'mail': 'meltondenise@yahoo.com',\n",
       "  'birthdate': 873954000000},\n",
       " {'id': 1,\n",
       "  'username': 'lbarrera',\n",
       "  'name': 'Joshua Stephens',\n",
       "  'sex': 'M',\n",
       "  'address': '3108 Christina Forges\\nPort Timothychester, KY 72980',\n",
       "  'mail': 'erica80@hotmail.com',\n",
       "  'birthdate': -1440702000000},\n",
       " {'id': 2,\n",
       "  'username': 'bburton',\n",
       "  'name': 'Paula Kaiser',\n",
       "  'sex': 'F',\n",
       "  'address': 'Unit 7405 Box 3052\\nDPO AE 09858',\n",
       "  'mail': 'timothypotts@gmail.com',\n",
       "  'birthdate': -1145991600000}]"
      ]
     },
     "execution_count": 3,
     "metadata": {},
     "output_type": "execute_result"
    }
   ],
   "source": [
    "import faker\n",
    "import datetime\n",
    "from typing import Generator\n",
    "\n",
    "def date_to_timestamp_ms(dt: datetime.date) -> int:\n",
    "    \"\"\" Convert a date to a timestamp in milliseconds. \"\"\"\n",
    "    dts = datetime.datetime.fromordinal(dt.toordinal())\n",
    "    ts = dts.timestamp()\n",
    "    return int(ts) * 1000\n",
    "\n",
    "\n",
    "def make_records(count: int) -> Generator:\n",
    "    \"\"\" Create a fake record. \"\"\"\n",
    "    faker.Faker.seed(5467)\n",
    "    faker_inst = faker.Faker(locale=\"en-US\")\n",
    "\n",
    "    for id in range(0, count):\n",
    "        rec = dict(id=id, **faker_inst.simple_profile())\n",
    "        rec[\"birthdate\"] = date_to_timestamp_ms(rec[\"birthdate\"])\n",
    "        yield rec\n",
    "\n",
    "list(make_records(3))"
   ]
  },
  {
   "cell_type": "markdown",
   "metadata": {},
   "source": [
    "### execute(): Create the table\n",
    "\n",
    "You can use GPUdb.execute() for SQL statements that return no data."
   ]
  },
  {
   "cell_type": "code",
   "execution_count": 4,
   "metadata": {},
   "outputs": [
    {
     "data": {
      "text/html": [
       "<div>\n",
       "<style scoped>\n",
       "    .dataframe tbody tr th:only-of-type {\n",
       "        vertical-align: middle;\n",
       "    }\n",
       "\n",
       "    .dataframe tbody tr th {\n",
       "        vertical-align: top;\n",
       "    }\n",
       "\n",
       "    .dataframe thead th {\n",
       "        text-align: right;\n",
       "    }\n",
       "</style>\n",
       "<table border=\"1\" class=\"dataframe\">\n",
       "  <thead>\n",
       "    <tr style=\"text-align: right;\">\n",
       "      <th></th>\n",
       "      <th>name</th>\n",
       "      <th>type</th>\n",
       "      <th>properties</th>\n",
       "    </tr>\n",
       "  </thead>\n",
       "  <tbody>\n",
       "    <tr>\n",
       "      <th>0</th>\n",
       "      <td>id</td>\n",
       "      <td>int</td>\n",
       "      <td>[data]</td>\n",
       "    </tr>\n",
       "    <tr>\n",
       "      <th>1</th>\n",
       "      <td>username</td>\n",
       "      <td>string</td>\n",
       "      <td>[char32, data]</td>\n",
       "    </tr>\n",
       "    <tr>\n",
       "      <th>2</th>\n",
       "      <td>name</td>\n",
       "      <td>string</td>\n",
       "      <td>[char64, data]</td>\n",
       "    </tr>\n",
       "    <tr>\n",
       "      <th>3</th>\n",
       "      <td>sex</td>\n",
       "      <td>string</td>\n",
       "      <td>[char2, data]</td>\n",
       "    </tr>\n",
       "    <tr>\n",
       "      <th>4</th>\n",
       "      <td>address</td>\n",
       "      <td>string</td>\n",
       "      <td>[char64, data]</td>\n",
       "    </tr>\n",
       "    <tr>\n",
       "      <th>5</th>\n",
       "      <td>mail</td>\n",
       "      <td>string</td>\n",
       "      <td>[char64, data]</td>\n",
       "    </tr>\n",
       "    <tr>\n",
       "      <th>6</th>\n",
       "      <td>birthdate</td>\n",
       "      <td>long</td>\n",
       "      <td>[data, timestamp]</td>\n",
       "    </tr>\n",
       "  </tbody>\n",
       "</table>\n",
       "</div>"
      ],
      "text/plain": [
       "        name    type         properties\n",
       "0         id     int             [data]\n",
       "1   username  string     [char32, data]\n",
       "2       name  string     [char64, data]\n",
       "3        sex  string      [char2, data]\n",
       "4    address  string     [char64, data]\n",
       "5       mail  string     [char64, data]\n",
       "6  birthdate    long  [data, timestamp]"
      ]
     },
     "execution_count": 4,
     "metadata": {},
     "output_type": "execute_result"
    }
   ],
   "source": [
    "sql=f\"\"\"\n",
    "CREATE OR REPLACE TABLE {TABLE_NAME}\n",
    "(\n",
    "    \"id\" INTEGER NOT NULL,\n",
    "    \"username\" VARCHAR(32) NOT NULL,\n",
    "    \"name\" VARCHAR(64) NOT NULL,\n",
    "    \"sex\" VARCHAR(2) NOT NULL,\n",
    "    \"address\" VARCHAR(64) NOT NULL,\n",
    "    \"mail\" VARCHAR(64) NOT NULL,\n",
    "    \"birthdate\" TIMESTAMP NOT NULL\n",
    ");\n",
    "\"\"\"\n",
    "count_affected = kdbc.execute(sql)\n",
    "\n",
    "# We can use teh  GPUdbTable to return the schema as a dataframe.\n",
    "table = GPUdbTable(db=kdbc, name=TABLE_NAME)\n",
    "table.type_as_df()"
   ]
  },
  {
   "cell_type": "markdown",
   "metadata": {},
   "source": [
    "### GPUdbIngestor: Bulk insert rows\n",
    "\n",
    "See the [Python API docs](https://docs.kinetica.com/7.2/api/python/frame/source/gpudbingestor.html#) for more information about GPUdbIngestor.\n",
    "\n",
    "> Note: If your client does not have direc access to all worker ports then set `use_head_node_only=True`"
   ]
  },
  {
   "cell_type": "code",
   "execution_count": 5,
   "metadata": {},
   "outputs": [
    {
     "data": {
      "text/plain": [
       "\"Workers: ['http://172.31.31.29:9192', 'http://172.31.31.29:9193']\""
      ]
     },
     "metadata": {},
     "output_type": "display_data"
    },
    {
     "data": {
      "application/vnd.jupyter.widget-view+json": {
       "model_id": "b5ad558dd1b94170912cbe3971ff2339",
       "version_major": 2,
       "version_minor": 0
      },
      "text/plain": [
       "  0%|          | 0/1000 [00:00<?, ?it/s]"
      ]
     },
     "metadata": {},
     "output_type": "display_data"
    },
    {
     "name": "stdout",
     "output_type": "stream",
     "text": [
      "Inserted rows: 1000\n"
     ]
    }
   ],
   "source": [
    "from gpudb import GPUdbWorkerList, GPUdbIngestor, GPUdbRecord\n",
    "from tqdm.auto import tqdm\n",
    "\n",
    "# number of rows to generate\n",
    "NUM_ROWS = 1000\n",
    "\n",
    "# Get the worker list. These are the Kinetica nodes that will be used for the insert\n",
    "workers = GPUdbWorkerList(kdbc, use_head_node_only=False)\n",
    "display(f\"Workers: {workers.get_worker_urls()}\")\n",
    "\n",
    "# Create an ingestor\n",
    "table_type = table.get_table_type()\n",
    "ingestor = GPUdbIngestor(kdbc, \n",
    "                        table_name=table.name, \n",
    "                        batch_size = 1000, \n",
    "                        workers = workers, \n",
    "                        options = dict(),\n",
    "                        record_type=table_type)\n",
    "\n",
    "# generate a progress bar with tqdm\n",
    "for rec in tqdm(make_records(NUM_ROWS), total=NUM_ROWS):\n",
    "    g_rec = GPUdbRecord(table_type, rec)\n",
    "    ingestor.insert_record(g_rec)\n",
    "ingestor.flush()\n",
    "\n",
    "print(f\"Inserted rows: {ingestor.get_count_inserted()}\")"
   ]
  },
  {
   "cell_type": "markdown",
   "metadata": {},
   "source": [
    "## Retrieve results with GPUdbSqlIterator\n",
    "\n",
    "### query(): Using the for clause"
   ]
  },
  {
   "cell_type": "code",
   "execution_count": 6,
   "metadata": {},
   "outputs": [
    {
     "name": "stdout",
     "output_type": "stream",
     "text": [
      "[0, 'eduardo69', 'Haley Beck', 'F', '59836 Carla Causeway Suite 939\\nPort Eugene, IN 32487', 'meltondenise@yahoo.com', 873954000000]\n",
      "[1, 'lbarrera', 'Joshua Stephens', 'M', '3108 Christina Forges\\nPort Timothychester, KY 72980', 'erica80@hotmail.com', -1440702000000]\n",
      "[2, 'bburton', 'Paula Kaiser', 'F', 'Unit 7405 Box 3052\\nDPO AE 09858', 'timothypotts@gmail.com', -1145991600000]\n",
      "[3, 'melissa49', 'Wendy Reese', 'F', '6408 Christopher Hill Apt. 459\\nNew Benjamin, NJ 15096', 'dadams@gmail.com', 586242000000]\n",
      "[4, 'melissacarter', 'Manuel Rios', 'M', '2241 Bell Gardens Suite 723\\nScottside, CA 38463', 'williamayala@gmail.com', -1231696800000]\n",
      "[5, 'james26', 'Patricia Potter', 'F', '7977 Jonathan Meadow\\nJerryside, OH 55205', 'jpatrick@gmail.com', 1207544400000]\n",
      "[6, 'vanessavalentine', 'Anthony Simpson', 'M', '405 Mathew Island\\nPort Rebecca, AZ 03104', 'kristineparker@hotmail.com', -722628000000]\n",
      "[7, 'andersonbridget', 'Jonathan Payne', 'M', '78393 Williams Heights Apt. 776\\nPort Lisa, GU 12111', 'jasonharvey@gmail.com', -1426528800000]\n",
      "[8, 'mooreandrew', 'Wendy Ramirez', 'F', '8089 Gonzalez Fields\\nJordanville, KS 22824', 'mathew05@hotmail.com', 892357200000]\n",
      "[9, 'floydcynthia', 'Judy Ortiz', 'F', '58984 Wright Throughway Suite 725\\nTimothymouth, OK 09131', 'pattoneric@hotmail.com', -32032800000]\n"
     ]
    }
   ],
   "source": [
    "sql = f\"select * from {TABLE_NAME} order by id limit 10\"\n",
    "\n",
    "for row in kdbc.query(sql):\n",
    "    print(row)"
   ]
  },
  {
   "cell_type": "markdown",
   "metadata": {},
   "source": [
    "### query(): Using the with clause\n",
    "\n",
    "In this example we use the with clause to get an instance of the iterator so we \n",
    "can access the fields `total_count` and `type_map` before starting the iteration. A progress bar is displayed as the rows are retrieved."
   ]
  },
  {
   "cell_type": "code",
   "execution_count": 7,
   "metadata": {},
   "outputs": [
    {
     "name": "stdout",
     "output_type": "stream",
     "text": [
      "Type Map: {'id': 'int', 'username': 'char32', 'name': 'char64', 'sex': 'char2', 'address': 'char64', 'mail': 'char64', 'birthdate': 'timestamp'}\n"
     ]
    },
    {
     "data": {
      "application/vnd.jupyter.widget-view+json": {
       "model_id": "0d864a2341e74100b78f2c6f67485b8c",
       "version_major": 2,
       "version_minor": 0
      },
      "text/plain": [
       "Fetching Records:   0%|          | 0/10 [00:00<?, ?it/s]"
      ]
     },
     "metadata": {},
     "output_type": "display_data"
    },
    {
     "name": "stdout",
     "output_type": "stream",
     "text": [
      "[0, 'eduardo69', 'Haley Beck', 'F', '59836 Carla Causeway Suite 939\\nPort Eugene, IN 32487', 'meltondenise@yahoo.com', 873954000000]\n",
      "[1, 'lbarrera', 'Joshua Stephens', 'M', '3108 Christina Forges\\nPort Timothychester, KY 72980', 'erica80@hotmail.com', -1440702000000]\n",
      "[2, 'bburton', 'Paula Kaiser', 'F', 'Unit 7405 Box 3052\\nDPO AE 09858', 'timothypotts@gmail.com', -1145991600000]\n",
      "[3, 'melissa49', 'Wendy Reese', 'F', '6408 Christopher Hill Apt. 459\\nNew Benjamin, NJ 15096', 'dadams@gmail.com', 586242000000]\n",
      "[4, 'melissacarter', 'Manuel Rios', 'M', '2241 Bell Gardens Suite 723\\nScottside, CA 38463', 'williamayala@gmail.com', -1231696800000]\n",
      "[5, 'james26', 'Patricia Potter', 'F', '7977 Jonathan Meadow\\nJerryside, OH 55205', 'jpatrick@gmail.com', 1207544400000]\n",
      "[6, 'vanessavalentine', 'Anthony Simpson', 'M', '405 Mathew Island\\nPort Rebecca, AZ 03104', 'kristineparker@hotmail.com', -722628000000]\n",
      "[7, 'andersonbridget', 'Jonathan Payne', 'M', '78393 Williams Heights Apt. 776\\nPort Lisa, GU 12111', 'jasonharvey@gmail.com', -1426528800000]\n",
      "[8, 'mooreandrew', 'Wendy Ramirez', 'F', '8089 Gonzalez Fields\\nJordanville, KS 22824', 'mathew05@hotmail.com', 892357200000]\n",
      "[9, 'floydcynthia', 'Judy Ortiz', 'F', '58984 Wright Throughway Suite 725\\nTimothymouth, OK 09131', 'pattoneric@hotmail.com', -32032800000]\n"
     ]
    }
   ],
   "source": [
    "sql = f\"select * from {TABLE_NAME} order by id limit 10\"\n",
    "\n",
    "with kdbc.query(sql) as sql_iter:\n",
    "    # get columns and types\n",
    "    print(f\"Type Map: {sql_iter.type_map}\")\n",
    "\n",
    "    # generate a progress bar\n",
    "    for rec in tqdm(iterable=sql_iter,\n",
    "                total=sql_iter.total_count,\n",
    "                desc='Fetching Records'):\n",
    "        print(rec)\n"
   ]
  },
  {
   "cell_type": "markdown",
   "metadata": {},
   "source": [
    "### query_one(): Fetch a single row\n",
    "\n",
    "If your result returns only one row there is a convenience function."
   ]
  },
  {
   "cell_type": "code",
   "execution_count": 8,
   "metadata": {},
   "outputs": [
    {
     "data": {
      "text/plain": [
       "[1000]"
      ]
     },
     "execution_count": 8,
     "metadata": {},
     "output_type": "execute_result"
    }
   ],
   "source": [
    "kdbc.query_one(sql = f\"select count(1) from {TABLE_NAME}\")"
   ]
  },
  {
   "cell_type": "markdown",
   "metadata": {},
   "source": [
    "### query_one(): passing SQL parameters\n",
    "\n",
    "> Note: You can also use parameters with `query()` or `execute()`"
   ]
  },
  {
   "cell_type": "code",
   "execution_count": 9,
   "metadata": {},
   "outputs": [
    {
     "data": {
      "text/plain": [
       "[3,\n",
       " 'melissa49',\n",
       " 'Wendy Reese',\n",
       " 'F',\n",
       " '6408 Christopher Hill Apt. 459\\nNew Benjamin, NJ 15096',\n",
       " 'dadams@gmail.com',\n",
       " 586242000000]"
      ]
     },
     "execution_count": 9,
     "metadata": {},
     "output_type": "execute_result"
    }
   ],
   "source": [
    "kdbc.query_one(f\"\"\"select * from {TABLE_NAME} where id = $1\"\"\", \n",
    "                    sql_params=[3])"
   ]
  }
 ],
 "metadata": {
  "kernelspec": {
   "display_name": "gpudb",
   "language": "python",
   "name": "python3"
  },
  "language_info": {
   "codemirror_mode": {
    "name": "ipython",
    "version": 3
   },
   "file_extension": ".py",
   "mimetype": "text/x-python",
   "name": "python",
   "nbconvert_exporter": "python",
   "pygments_lexer": "ipython3",
   "version": "3.10.13"
  }
 },
 "nbformat": 4,
 "nbformat_minor": 2
}
