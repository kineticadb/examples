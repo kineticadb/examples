{
 "cells": [
  {
   "cell_type": "markdown",
   "id": "ac523cadf7ba3964",
   "metadata": {
    "collapsed": false,
    "jupyter": {
     "outputs_hidden": false
    }
   },
   "source": [
    "# Interacting with Kinetica and the SQLAssist LLM"
   ]
  },
  {
   "cell_type": "code",
   "execution_count": 13,
   "id": "05846387",
   "metadata": {},
   "outputs": [
    {
     "name": "stdout",
     "output_type": "stream",
     "text": [
      "Collecting pycatch22\n",
      "  Downloading pycatch22-0.4.4.tar.gz (49 kB)\n",
      "\u001b[2K     \u001b[90m━━━━━━━━━━━━━━━━━━━━━━━━━━━━━━━━━━━━━━━━\u001b[0m \u001b[32m49.9/49.9 kB\u001b[0m \u001b[31m4.2 MB/s\u001b[0m eta \u001b[36m0:00:00\u001b[0m\n",
      "\u001b[?25h  Installing build dependencies ... \u001b[?25ldone\n",
      "\u001b[?25h  Getting requirements to build wheel ... \u001b[?25ldone\n",
      "\u001b[?25h  Installing backend dependencies ... \u001b[?25ldone\n",
      "\u001b[?25h  Preparing metadata (pyproject.toml) ... \u001b[?25ldone\n",
      "\u001b[?25hBuilding wheels for collected packages: pycatch22\n",
      "  Building wheel for pycatch22 (pyproject.toml) ... \u001b[?25ldone\n",
      "\u001b[?25h  Created wheel for pycatch22: filename=pycatch22-0.4.4-cp310-cp310-macosx_14_0_arm64.whl size=53012 sha256=8eae7600eca0d5d83f9277df0151a9eb3c38bb0b84a1d575b54c08a0c0f8a43b\n",
      "  Stored in directory: /Users/Nima/Library/Caches/pip/wheels/10/67/84/cdce1a956aa218fd5ce5b5fa6773219f42780b1fac77889c57\n",
      "Successfully built pycatch22\n",
      "Installing collected packages: pycatch22\n",
      "Successfully installed pycatch22-0.4.4\n",
      "\n",
      "\u001b[1m[\u001b[0m\u001b[34;49mnotice\u001b[0m\u001b[1;39;49m]\u001b[0m\u001b[39;49m A new release of pip is available: \u001b[0m\u001b[31;49m23.3.1\u001b[0m\u001b[39;49m -> \u001b[0m\u001b[32;49m24.0\u001b[0m\n",
      "\u001b[1m[\u001b[0m\u001b[34;49mnotice\u001b[0m\u001b[1;39;49m]\u001b[0m\u001b[39;49m To update, run: \u001b[0m\u001b[32;49mpython3.10 -m pip install --upgrade pip\u001b[0m\n",
      "Note: you may need to restart the kernel to use updated packages.\n"
     ]
    }
   ],
   "source": [
    "pip install pycatch22"
   ]
  },
  {
   "cell_type": "markdown",
   "id": "d46bcf122a32a810",
   "metadata": {
    "collapsed": false,
    "jupyter": {
     "outputs_hidden": false
    }
   },
   "source": [
    "### Connect to Kinetica and the LLM"
   ]
  },
  {
   "cell_type": "code",
   "execution_count": 7,
   "id": "52bd60069b88cfdf",
   "metadata": {
    "ExecuteTime": {
     "end_time": "2024-02-08T18:55:09.423863Z",
     "start_time": "2024-02-08T18:55:07.549517Z"
    },
    "collapsed": false,
    "jupyter": {
     "outputs_hidden": false
    }
   },
   "outputs": [
    {
     "data": {
      "text/plain": [
       "<module 'kinetica.kinetica_ctx' from '/Users/Nima/Desktop/kinetica_demos/kinetica/kinetica_ctx.py'>"
      ]
     },
     "execution_count": 7,
     "metadata": {},
     "output_type": "execute_result"
    }
   ],
   "source": [
    "from dotenv import load_dotenv\n",
    "import importlib\n",
    "import kinetica.kinetica_ctx as ctx\n",
    "from kinetica.kinetica_ctx import KineticaTableDefinition, KineticaSamplesDefinition, KineticaContextBuilder\n",
    "import os\n",
    "\n",
    "load_dotenv() \n",
    "user     = '<YOUR_USERNAME>'\n",
    "password = '<YOUR_PASSWORD>'\n",
    "host     = 'https://demo72.kinetica.com/_gpudb/'\n",
    "\n",
    "importlib.reload(ctx)"
   ]
  },
  {
   "cell_type": "markdown",
   "id": "6e50ce1e8fe891d1",
   "metadata": {
    "collapsed": false,
    "jupyter": {
     "outputs_hidden": false
    }
   },
   "source": [
    "### Set up the context"
   ]
  },
  {
   "cell_type": "code",
   "execution_count": 8,
   "id": "9f4d6fa860255236",
   "metadata": {
    "ExecuteTime": {
     "end_time": "2024-02-08T18:55:11.691113Z",
     "start_time": "2024-02-08T18:55:11.535844Z"
    },
    "collapsed": false,
    "jupyter": {
     "outputs_hidden": false
    }
   },
   "outputs": [],
   "source": [
    "from gpudb import GPUdb\n",
    "from langchain_core.prompts import ChatPromptTemplate\n",
    "from langchain_community.chat_models.kinetica import ChatKinetica, KineticaSqlOutputParser, KineticaSqlResponse, KineticaUtil\n",
    "\n",
    "# Set the SQL context to use\n",
    "kinetica_ctx: str = 'raceday.raceday_ui_ctxt'\n",
    "\n",
    "# create the Kinetica connection\n",
    "kdbc: GPUdb = KineticaUtil.create_kdbc(url=host, user=user, passwd=password)"
   ]
  },
  {
   "cell_type": "code",
   "execution_count": 9,
   "id": "078e9b23-11f6-4468-b543-f71596803e03",
   "metadata": {},
   "outputs": [
    {
     "name": "stdout",
     "output_type": "stream",
     "text": [
      "================================\u001b[1m System Message \u001b[0m================================\n",
      "\n",
      "CREATE TABLE raceday.video_join1 AS\n",
      "(\n",
      "   IsRaceOn INTEGER,\n",
      "   timestamp DATETIME  COMMENT 'this is the timestamp column',\n",
      "   EngineMaxRpm REAL  COMMENT 'this is the maximum engine RPM',\n",
      "   EngineIdleRpm REAL,\n",
      "   CurrentEngineRpm REAL,\n",
      "   AccelerationX REAL,\n",
      "   AccelerationY REAL,\n",
      "   AccelerationZ REAL,\n",
      "   VelocityX REAL,\n",
      "   VelocityY REAL,\n",
      "   VelocityZ REAL,\n",
      "   AngularVelocityX REAL,\n",
      "   AngularVelocityY REAL,\n",
      "   AngularVelocityZ REAL,\n",
      "   Yaw REAL,\n",
      "   Pitch REAL,\n",
      "   Roll REAL,\n",
      "   NormSuspensionTravelFl REAL,\n",
      "   NormSuspensionTravelFr REAL,\n",
      "   NormSuspensionTravelRl REAL,\n",
      "   NormSuspensionTravelRr REAL,\n",
      "   TireSlipRatioFl REAL,\n",
      "   TireSlipRatioFr REAL,\n",
      "   TireSlipRatioRl REAL,\n",
      "   TireSlipRatioRr REAL,\n",
      "   WheelRotationSpeedFl REAL,\n",
      "   WheelRotationSpeedFr REAL,\n",
      "   WheelRotationSpeedRl REAL,\n",
      "   WheelRotationSpeedRr REAL,\n",
      "   WheelOnRumbleStripFl INTEGER,\n",
      "   WheelOnRumbleStripFr INTEGER,\n",
      "   WheelOnRumbleStripRl INTEGER,\n",
      "   WheelOnRumbleStripRr INTEGER,\n",
      "   WheelInPuddleFl REAL,\n",
      "   WheelInPuddleFr REAL,\n",
      "   WheelInPuddleRl REAL,\n",
      "   WheelInPuddleRr REAL,\n",
      "   SurfaceRumbleFl REAL,\n",
      "   SurfaceRumbleFr REAL,\n",
      "   SurfaceRumbleRl REAL,\n",
      "   SurfaceRumbleRr REAL,\n",
      "   TireSlipAngleFl REAL,\n",
      "   TireSlipAngleFr REAL,\n",
      "   TireSlipAngleRl REAL,\n",
      "   TireSlipAngleRr REAL,\n",
      "   TireCombinedSlipFl REAL,\n",
      "   TireCombinedSlipFr REAL,\n",
      "   TireCombinedSlipRl REAL,\n",
      "   TireCombinedSlipRr REAL,\n",
      "   SuspensionTravelMetersFl REAL,\n",
      "   SuspensionTravelMetersFr REAL,\n",
      "   SuspensionTravelMetersRl REAL,\n",
      "   SuspensionTravelMetersRr REAL,\n",
      "   CarOrdinal INTEGER,\n",
      "   CarClass INTEGER,\n",
      "   CarPerformanceIndex INTEGER,\n",
      "   DriveTrain INTEGER,\n",
      "   NumCylinders INTEGER,\n",
      "   PositionX REAL,\n",
      "   PositionY REAL,\n",
      "   PositionZ REAL,\n",
      "   Speed REAL,\n",
      "   Power REAL,\n",
      "   Torque REAL,\n",
      "   TireTempFl REAL,\n",
      "   TireTempFr REAL,\n",
      "   TireTempRl REAL,\n",
      "   TireTempRr REAL,\n",
      "   Boost REAL,\n",
      "   Fuel REAL,\n",
      "   Distance REAL,\n",
      "   BestLapTime REAL,\n",
      "   LastLapTime REAL,\n",
      "   CurrentLapTime REAL,\n",
      "   CurrentRaceTime REAL,\n",
      "   Lap INTEGER,\n",
      "   RacePosition INTEGER,\n",
      "   Accelerator INTEGER,\n",
      "   Brake INTEGER,\n",
      "   Clutch INTEGER,\n",
      "   Handbrake INTEGER,\n",
      "   Gear INTEGER,\n",
      "   Steer INTEGER,\n",
      "   NormalDrivingLine INTEGER,\n",
      "   TrackOrdinal INTEGER,\n",
      "   NormalAiBrakeDifference INTEGER,\n",
      "   TireWearFrontLeft REAL,\n",
      "   TireWearFrontRight REAL,\n",
      "   TireWearRearLeft REAL,\n",
      "   TireWearRearRight REAL,\n",
      "   ts DATETIME (set_nullable),\n",
      "   videopath VARCHAR (128, set_nullable)\n",
      ");\n",
      "COMMENT ON TABLE raceday.video_join1 IS 'when not asking about vector similarity query this table';\n",
      "-- When querying table raceday.video_join1 the following rules apply:\n",
      "-- * crashes are likely when tire slip ratio is lower than -0.4 and acceleration along the X axis is less than 0 and velocity along the Y axis is lower than 0\n",
      "-- * to retrieve videos use an asof join between the raceday.dash1 timestamp column and raceday.videos ts column with a tolerance of 0 seconds before the event and 5 seconds after making the minimum match\n",
      "-- * when I use the word \"distinct\" when asking for videos I mean to use the distinct sql function\n",
      "-- * when I say \"show me 1\", I want you to add a \"LIMIT 1 to the query\"\n",
      "-- * when I ask for 1 video, make sure that the you use the distinct function\n",
      "\n",
      "CREATE TABLE raceday.vid_vec_join AS\n",
      "(\n",
      "   ts DATETIME NOT NULL,\n",
      "   ts_bkt DATETIME NOT NULL,\n",
      "   videopath VARCHAR (128) NOT NULL,\n",
      "   ts_bkt0 DATETIME NOT NULL,\n",
      "   TireSlipRatioFl_Vec VECTOR (22) NOT NULL,\n",
      "   TireSlipRatioFr_Vec VECTOR (22) NOT NULL,\n",
      "   TireSlipRatioRl_Vec VECTOR (22) NOT NULL,\n",
      "   TireSlipRatioRr_Vec VECTOR (22) NOT NULL,\n",
      "   AccelerationX_Vec VECTOR (22) NOT NULL,\n",
      "   AccelerationY_Vec VECTOR (22) NOT NULL,\n",
      "   AccelerationZ_Vec VECTOR (22) NOT NULL,\n",
      "   VelocityX_Vec VECTOR (22) NOT NULL,\n",
      "   VelocityY_Vec VECTOR (22) NOT NULL,\n",
      "   VelocityZ_Vec VECTOR (22) NOT NULL,\n",
      "   CombinedRace_Vec VECTOR (220) NOT NULL\n",
      ");\n",
      "\n",
      "================================\u001b[1m Human Message \u001b[0m=================================\n",
      "\n",
      "find videos similar to https://kinetica-raceday.s3.amazonaws.com/raceday1/forza_images/output-2-15.mp4\n",
      "\n",
      "==================================\u001b[1m Ai Message \u001b[0m==================================\n",
      "\n",
      "select\n",
      "    ts_bkt,\n",
      "    videopath,\n",
      "    cosine_distance(VelocityX_Vec,\n",
      "        (select string(VelocityX_Vec) from raceday.vid_vec_join where videopath = 'https://kinetica-raceday.s3.amazonaws.com/raceday1/forza_images/output-2-15.mp4')\n",
      "    ) as similarity\n",
      "from\n",
      "    raceday.vid_vec_join\n",
      "order by\n",
      "    similarity\n",
      "limit\n",
      "    5\n",
      "\n",
      "================================\u001b[1m Human Message \u001b[0m=================================\n",
      "\n",
      "show me 5 videos where a crash is likely to occur\n",
      "\n",
      "==================================\u001b[1m Ai Message \u001b[0m==================================\n",
      "\n",
      "SELECT\n",
      "    ts,\n",
      "    videopath\n",
      "FROM\n",
      "    raceday.video_join1 v\n",
      "WHERE\n",
      "    TireSlipRatioFl < -0.4\n",
      "    AND AccelerationX < 0\n",
      "    AND VelocityY < 0\n",
      "    AND videopath is not null\n",
      "GROUP BY\n",
      "    1,2\n",
      "ORDER BY\n",
      "    ts\n",
      "LIMIT\n",
      "    5\n",
      "\n",
      "================================\u001b[1m Human Message \u001b[0m=================================\n",
      "\n",
      "\u001b[33;1m\u001b[1;3m{input}\u001b[0m\n"
     ]
    }
   ],
   "source": [
    "# create the Kinetica LLM\n",
    "kinetica_llm = ChatKinetica(kdbc=kdbc)\n",
    "\n",
    "# load the context from the database\n",
    "ctx_messages = kinetica_llm.load_messages_from_context(kinetica_ctx)\n",
    "\n",
    "# Add the input prompt. This is where input question will be substituted.\n",
    "ctx_messages.append((\"human\", \"{input}\"))\n",
    "\n",
    "# Create the prompt template.\n",
    "prompt_template = ChatPromptTemplate.from_messages(ctx_messages)\n",
    "prompt_template.pretty_print()\n",
    "\n",
    "# create the chain. \n",
    "# note: The KineticaSqlOutputParser will execute the SQL statement and is optional.\n",
    "chain = prompt_template | kinetica_llm | KineticaSqlOutputParser(kdbc=kdbc)\n",
    "# for error handling purposes, we are making it easy to troubleshoot the generated SQL\n",
    "chain_sql_only = prompt_template | kinetica_llm"
   ]
  },
  {
   "cell_type": "markdown",
   "id": "673519197870f0e0",
   "metadata": {
    "collapsed": false,
    "jupyter": {
     "outputs_hidden": false
    }
   },
   "source": [
    "### A simple question"
   ]
  },
  {
   "cell_type": "code",
   "execution_count": 10,
   "id": "5ed920504716d3d2",
   "metadata": {
    "ExecuteTime": {
     "end_time": "2024-02-08T18:55:19.610165Z",
     "start_time": "2024-02-08T18:55:13.855912Z"
    },
    "collapsed": false,
    "jupyter": {
     "outputs_hidden": false
    }
   },
   "outputs": [
    {
     "data": {
      "text/html": [
       "<table border=\"1\" class=\"dataframe\">\n",
       "  <thead>\n",
       "    <tr style=\"text-align: right;\">\n",
       "      <th>ts</th>\n",
       "      <th>videopath</th>\n",
       "    </tr>\n",
       "  </thead>\n",
       "  <tbody>\n",
       "    <tr>\n",
       "      <td>2023-10-30 19:27:46</td>\n",
       "      <td>https://kinetica-raceday.s3.amazonaws.com/raceday1/forza_images/output-2-15.mp4</td>\n",
       "    </tr>\n",
       "    <tr>\n",
       "      <td>2023-10-30 19:27:51</td>\n",
       "      <td>https://kinetica-raceday.s3.amazonaws.com/raceday1/forza_images/output-2-16.mp4</td>\n",
       "    </tr>\n",
       "    <tr>\n",
       "      <td>2023-10-30 19:28:46</td>\n",
       "      <td>https://kinetica-raceday.s3.amazonaws.com/raceday1/forza_images/output-2-27.mp4</td>\n",
       "    </tr>\n",
       "    <tr>\n",
       "      <td>2023-10-30 19:29:26</td>\n",
       "      <td>https://kinetica-raceday.s3.amazonaws.com/raceday1/forza_images/output-2-35.mp4</td>\n",
       "    </tr>\n",
       "    <tr>\n",
       "      <td>2023-10-30 19:42:25</td>\n",
       "      <td>https://kinetica-raceday.s3.amazonaws.com/raceday1/forza_images/output-3-50.mp4</td>\n",
       "    </tr>\n",
       "  </tbody>\n",
       "</table>"
      ],
      "text/plain": [
       "<IPython.core.display.HTML object>"
      ]
     },
     "metadata": {},
     "output_type": "display_data"
    }
   ],
   "source": [
    "from IPython.display import display, HTML\n",
    "\n",
    "question = {\"input\": \"show me 5 videos where a crash is likely to occur\"}\n",
    "\n",
    "\n",
    "try:\n",
    "    \n",
    "    \n",
    "    response: KineticaSqlResponse = chain.invoke(question)\n",
    "    df = response.dataframe\n",
    "    \n",
    "    \n",
    "    \n",
    "    if df is None:\n",
    "        print('No records returned\\n', response.sql)\n",
    "    else:\n",
    "        display(HTML(response.dataframe.to_html(index=False)))\n",
    "        \n",
    "except:\n",
    "    response = chain_sql_only.invoke(question)\n",
    "    print('Got an error from the SQL query:\\n',response.content)"
   ]
  },
  {
   "cell_type": "markdown",
   "id": "dba6b7f2-0589-42db-aba4-d5f8508e2636",
   "metadata": {},
   "source": [
    "### Based off of thresholds, we get reasonable results, but we can do better with vector similarity search\n",
    "<video src=\"https://kinetica-raceday.s3.amazonaws.com/raceday1/forza_images/output-2-15.mp4\" width=\"500\" controls></video>|<video src=\"https://kinetica-raceday.s3.amazonaws.com/raceday1/forza_images/output-27.mp4\" width=\"500\" controls></video>"
   ]
  },
  {
   "cell_type": "markdown",
   "id": "5096dd1ec4bfec23",
   "metadata": {
    "collapsed": false,
    "jupyter": {
     "outputs_hidden": false
    }
   },
   "source": [
    "# Vector Similarity Search\n",
    "First, we need to generate our vector embeddings.  For this exercise, we will be using the [catch22 library](https://time-series-features.gitbook.io/catch22-features/), which is, as you'd expect, a collection of 22 different features specifically focused on time-series data."
   ]
  },
  {
   "cell_type": "code",
   "execution_count": 14,
   "id": "6860574bf0d11391",
   "metadata": {
    "collapsed": false,
    "jupyter": {
     "outputs_hidden": false
    }
   },
   "outputs": [],
   "source": [
    "import pycatch22\n",
    "import gpudb\n",
    "import json\n",
    "import math\n",
    "\n",
    "def c22(ts_data: list) -> list:\n",
    "    timeseries = [pycatch22.CO_f1ecac(ts_data),\n",
    "                  pycatch22.CO_trev_1_num(ts_data),\n",
    "                  pycatch22.CO_FirstMin_ac(ts_data),\n",
    "                  pycatch22.CO_HistogramAMI_even_2_5(ts_data),\n",
    "                  pycatch22.DN_Mean(ts_data),\n",
    "                  pycatch22.DN_Spread_Std(ts_data),\n",
    "                  pycatch22.DN_HistogramMode_5(ts_data),\n",
    "                  pycatch22.DN_HistogramMode_10(ts_data),\n",
    "                  pycatch22.DN_OutlierInclude_n_001_mdrmd(ts_data),\n",
    "                  pycatch22.SB_BinaryStats_diff_longstretch0(ts_data),\n",
    "                  pycatch22.SB_BinaryStats_mean_longstretch1(ts_data),\n",
    "                  pycatch22.SB_MotifThree_quantile_hh(ts_data),\n",
    "                  pycatch22.SB_TransitionMatrix_3ac_sumdiagcov(ts_data),\n",
    "                  pycatch22.SC_FluctAnal_2_dfa_50_1_2_logi_prop_r1(ts_data),\n",
    "                  pycatch22.SC_FluctAnal_2_rsrangefit_50_1_logi_prop_r1(ts_data),\n",
    "                  pycatch22.SP_Summaries_welch_rect_area_5_1(ts_data),\n",
    "                  pycatch22.SP_Summaries_welch_rect_centroid(ts_data),\n",
    "                  pycatch22.FC_LocalSimple_mean1_tauresrat(ts_data),\n",
    "                  pycatch22.FC_LocalSimple_mean3_stderr(ts_data),\n",
    "                  pycatch22.IN_AutoMutualInfoStats_40_gaussian_fmmi(ts_data),\n",
    "                  pycatch22.MD_hrv_classic_pnn40(ts_data),\n",
    "                  pycatch22.PD_PeriodicityWang_th0_01(ts_data)]\n",
    "\n",
    "    return timeseries"
   ]
  },
  {
   "cell_type": "markdown",
   "id": "8bbc3bdeff6d8189",
   "metadata": {
    "collapsed": false,
    "jupyter": {
     "outputs_hidden": false
    }
   },
   "source": [
    "### Connect to Kinetica"
   ]
  },
  {
   "cell_type": "markdown",
   "id": "5ca44290f9050af7",
   "metadata": {
    "collapsed": false,
    "jupyter": {
     "outputs_hidden": false
    }
   },
   "source": [
    "### Create the vector table schema"
   ]
  },
  {
   "cell_type": "code",
   "execution_count": 18,
   "id": "a97b769cec1cc817",
   "metadata": {
    "collapsed": false,
    "jupyter": {
     "outputs_hidden": false
    }
   },
   "outputs": [],
   "source": [
    "# we are going to truncate the table\n",
    "if kdbc.has_table(\"raceday.vectors\")[\"table_exists\"]:\n",
    "    kdbc.clear_table(table_name=\"raceday.vectors\")\n",
    "\n",
    "schema = [\n",
    "    [\"ts_bkt\"             , \"string\", \"datetime\"],\n",
    "    [\"TireSlipRatioFl_Vec\", \"bytes\" , \"vector(22)\"],\n",
    "    [\"TireSlipRatioFr_Vec\", \"bytes\" , \"vector(22)\"],\n",
    "    [\"TireSlipRatioRl_Vec\", \"bytes\" , \"vector(22)\"],\n",
    "    [\"TireSlipRatioRr_Vec\", \"bytes\" , \"vector(22)\"],\n",
    "    [\"AccelerationX_Vec\"  , \"bytes\" , \"vector(22)\"],\n",
    "    [\"AccelerationY_Vec\"  , \"bytes\" , \"vector(22)\"],\n",
    "    [\"AccelerationZ_Vec\"  , \"bytes\" , \"vector(22)\"],\n",
    "    [\"VelocityX_Vec\"      , \"bytes\" , \"vector(22)\"],\n",
    "    [\"VelocityY_Vec\"      , \"bytes\" , \"vector(22)\"],\n",
    "    [\"VelocityZ_Vec\"      , \"bytes\" , \"vector(22)\"],\n",
    "    [\"CombinedRace_Vec\"   , \"bytes\" , \"vector(220)\"]\n",
    "]\n",
    "\n",
    "tableObj = gpudb.GPUdbTable(\n",
    "    _type=schema,\n",
    "    name=\"raceday.vectors\",\n",
    "    use_multihead_io=False,\n",
    "    multihead_ingest_batch_size=5000,\n",
    "    db=kdbc\n",
    ")"
   ]
  },
  {
   "cell_type": "markdown",
   "id": "3abb30fb204eae1f",
   "metadata": {
    "collapsed": false,
    "jupyter": {
     "outputs_hidden": false
    }
   },
   "source": [
    "### Now that we have created our vector table, we need to loop through all the time-series data, convert to our 22-dimensional vector embedding space, then insert into Kinetica"
   ]
  },
  {
   "cell_type": "code",
   "execution_count": 20,
   "id": "e8a30a5fcf6cc5be",
   "metadata": {
    "collapsed": false,
    "jupyter": {
     "outputs_hidden": false
    }
   },
   "outputs": [],
   "source": [
    "has_more = True\n",
    "offset = 0\n",
    "while has_more:\n",
    "    result = None\n",
    "    try:\n",
    "        result = kdbc.execute_sql('''select\n",
    "       time_bucket(interval 5 second, timestamp) as ts_bkt,\n",
    "       TireSlipRatioFl,\n",
    "       TireSlipRatioFr,\n",
    "       TireSlipRatioRl,\n",
    "       TireSlipRatioRr,\n",
    "       AccelerationX,\n",
    "       AccelerationY,\n",
    "       AccelerationZ,\n",
    "       VelocityX,\n",
    "       VelocityY,\n",
    "       VelocityZ\n",
    "    from\n",
    "        raceday.dash1''',\n",
    "                                encoding='json',\n",
    "                                offset=offset)\n",
    "\n",
    "    except gpudb.GPUdbException as gpudberror:\n",
    "        print(str(gpudberror))\n",
    "        \n",
    "    if result is not None:\n",
    "        j = json.loads(result.json_encoded_response)\n",
    "        flat_result = {}\n",
    "        count = 0\n",
    "\n",
    "        has_more = result.has_more_records\n",
    "        offset += len(j['column_1'])\n",
    "        \n",
    "        for count in range(0, len(j['column_1'])):\n",
    "            if j['column_1'][count] not in flat_result:\n",
    "                flat_result[j['column_1'][count]] = {\n",
    "                    'TireSlipRatioFl_Vec': [],\n",
    "                    'TireSlipRatioFr_Vec': [],\n",
    "                    'TireSlipRatioRl_Vec': [],\n",
    "                    'TireSlipRatioRr_Vec': [],\n",
    "                    'AccelerationX_Vec':   [],\n",
    "                    'AccelerationY_Vec':   [],\n",
    "                    'AccelerationZ_Vec':   [],\n",
    "                    'VelocityX_Vec':       [],\n",
    "                    'VelocityY_Vec':       [],\n",
    "                    'VelocityZ_Vec':       [],\n",
    "                    'CombinedRace_Vec':    []\n",
    "                }\n",
    "\n",
    "            flat_result[j['column_1'][count]]['TireSlipRatioFl_Vec'].append(j['column_2'][count])\n",
    "            flat_result[j['column_1'][count]]['TireSlipRatioFr_Vec'].append(j['column_3'][count])\n",
    "            flat_result[j['column_1'][count]]['TireSlipRatioRl_Vec'].append(j['column_4'][count])\n",
    "            flat_result[j['column_1'][count]]['TireSlipRatioRr_Vec'].append(j['column_5'][count])\n",
    "            flat_result[j['column_1'][count]]['AccelerationX_Vec'].append(j['column_6'][count])\n",
    "            flat_result[j['column_1'][count]]['AccelerationY_Vec'].append(j['column_7'][count])\n",
    "            flat_result[j['column_1'][count]]['AccelerationZ_Vec'].append(j['column_8'][count])\n",
    "            flat_result[j['column_1'][count]]['VelocityX_Vec'].append(j['column_9'][count])\n",
    "            flat_result[j['column_1'][count]]['VelocityY_Vec'].append(j['column_10'][count])\n",
    "            flat_result[j['column_1'][count]]['VelocityZ_Vec'].append(j['column_11'][count])\n",
    "            \n",
    "        for key, value in flat_result.items():\n",
    "            for k2, v2 in value.items():\n",
    "                if k2 != 'CombinedRace_Vec':\n",
    "                    vec = c22(v2)\n",
    "                    vec = [0 if math.isnan(x) else x for x in vec]\n",
    "                    flat_result[key][k2] = vec\n",
    "                    flat_result[key]['CombinedRace_Vec'].extend(vec)\n",
    "                    \n",
    "        for key, value in flat_result.items():\n",
    "            json_record = json.dumps({'ts_bkt':              key,\n",
    "                                      'TireSlipRatioFl_Vec': value['TireSlipRatioFl_Vec'],\n",
    "                                      'TireSlipRatioFr_Vec': value['TireSlipRatioFr_Vec'],\n",
    "                                      'TireSlipRatioRl_Vec': value['TireSlipRatioRl_Vec'],\n",
    "                                      'TireSlipRatioRr_Vec': value['TireSlipRatioRr_Vec'],\n",
    "                                      'AccelerationX_Vec':   value['AccelerationX_Vec'],\n",
    "                                      'AccelerationY_Vec':   value['AccelerationY_Vec'],\n",
    "                                      'AccelerationZ_Vec':   value['AccelerationZ_Vec'],\n",
    "                                      'VelocityX_Vec':       value['VelocityX_Vec'],\n",
    "                                      'VelocityY_Vec':       value['VelocityY_Vec'],\n",
    "                                      'VelocityZ_Vec':       value['VelocityZ_Vec'],\n",
    "                                      'CombinedRace_Vec':    value['CombinedRace_Vec']\n",
    "                                      })\n",
    "            response = kdbc.insert_records_from_json(\n",
    "                table_name='raceday.vectors',\n",
    "                json_records=json_record)\n",
    "tableObj.flush_data_to_server()"
   ]
  },
  {
   "cell_type": "markdown",
   "id": "7dd3559a624c3566",
   "metadata": {
    "collapsed": false,
    "jupyter": {
     "outputs_hidden": false
    }
   },
   "source": [
    "### Using SQLAssist to use vector similarity search"
   ]
  },
  {
   "cell_type": "code",
   "execution_count": 22,
   "id": "5f5590fb2c0dc95b",
   "metadata": {
    "ExecuteTime": {
     "end_time": "2024-02-08T20:28:22.749719Z",
     "start_time": "2024-02-08T20:28:15.409397Z"
    },
    "collapsed": false,
    "jupyter": {
     "outputs_hidden": false
    }
   },
   "outputs": [
    {
     "data": {
      "text/html": [
       "<table border=\"1\" class=\"dataframe\">\n",
       "  <thead>\n",
       "    <tr style=\"text-align: right;\">\n",
       "      <th>ts_bkt</th>\n",
       "      <th>videopath</th>\n",
       "      <th>similarity</th>\n",
       "    </tr>\n",
       "  </thead>\n",
       "  <tbody>\n",
       "    <tr>\n",
       "      <td>2023-10-30 19:27:50</td>\n",
       "      <td>https://kinetica-raceday.s3.amazonaws.com/raceday1/forza_images/output-2-15.mp4</td>\n",
       "      <td>0.0</td>\n",
       "    </tr>\n",
       "    <tr>\n",
       "      <td>2023-10-30 19:42:20</td>\n",
       "      <td>https://kinetica-raceday.s3.amazonaws.com/raceday1/forza_images/output-3-49.mp4</td>\n",
       "      <td>0.028669</td>\n",
       "    </tr>\n",
       "    <tr>\n",
       "      <td>2023-10-30 19:42:00</td>\n",
       "      <td>https://kinetica-raceday.s3.amazonaws.com/raceday1/forza_images/output-3-45.mp4</td>\n",
       "      <td>0.046747</td>\n",
       "    </tr>\n",
       "    <tr>\n",
       "      <td>2023-10-30 19:24:00</td>\n",
       "      <td>https://kinetica-raceday.s3.amazonaws.com/raceday1/forza_images/output-1-03.mp4</td>\n",
       "      <td>0.069665</td>\n",
       "    </tr>\n",
       "    <tr>\n",
       "      <td>2023-10-30 19:25:10</td>\n",
       "      <td>https://kinetica-raceday.s3.amazonaws.com/raceday1/forza_images/output-1-17.mp4</td>\n",
       "      <td>0.071257</td>\n",
       "    </tr>\n",
       "  </tbody>\n",
       "</table>"
      ],
      "text/plain": [
       "<IPython.core.display.HTML object>"
      ]
     },
     "metadata": {},
     "output_type": "display_data"
    }
   ],
   "source": [
    "# Here you must ask a question relevant to the LLM context provided in the prompt template.\n",
    "question = {\"input\": 'find videos similar to https://kinetica-raceday.s3.amazonaws.com/raceday1/forza_images/output-2-15.mp4'}\n",
    "try:\n",
    "    response: KineticaSqlResponse = chain.invoke(question)\n",
    "    df = response.dataframe\n",
    "    if df is None:\n",
    "        print('No records returned\\n', response.sql)\n",
    "    else:\n",
    "        display(HTML(response.dataframe.to_html(index=False)))\n",
    "        \n",
    "except:\n",
    "    response = chain_sql_only.invoke(question)\n",
    "    print('Got an error from the SQL query:\\n',response.content)"
   ]
  },
  {
   "cell_type": "markdown",
   "id": "2688072a56a5d80",
   "metadata": {
    "collapsed": false,
    "jupyter": {
     "outputs_hidden": false
    }
   },
   "source": [
    "### Here is the video that we want to use as our search vector\n",
    "<video src=\"https://kinetica-raceday.s3.amazonaws.com/raceday1/forza_images/output-2-15.mp4\" width=\"500\" controls></video>"
   ]
  },
  {
   "cell_type": "markdown",
   "id": "f39a4837-90f2-4792-8f28-dd24717539c3",
   "metadata": {},
   "source": [
    "### Here is the most similar video based off of cosine distance\n",
    "<video src=\"https://kinetica-raceday.s3.amazonaws.com/raceday1/forza_images/output-3-49.mp4\" width=\"500\" controls></video>"
   ]
  },
  {
   "cell_type": "markdown",
   "id": "f59c30ec5ac3a552",
   "metadata": {
    "collapsed": false,
    "jupyter": {
     "outputs_hidden": false
    }
   },
   "source": [
    "# Interacting with Nemo\n",
    "Now we want to do something interesting, so instead of just converting natural language to SQL, lets get two LLM's talking to each other"
   ]
  },
  {
   "cell_type": "code",
   "execution_count": 10,
   "id": "423da5c6d446cdc3",
   "metadata": {
    "ExecuteTime": {
     "end_time": "2024-02-08T18:55:50.042728Z",
     "start_time": "2024-02-08T18:55:49.829262Z"
    },
    "collapsed": false,
    "jupyter": {
     "outputs_hidden": false
    }
   },
   "outputs": [],
   "source": [
    "import importlib\n",
    "import kinetica.kineai\n",
    "from kinetica.kineai import SqlAssistLLM\n",
    "\n",
    "importlib.reload(kinetica.kineai)\n",
    "kineticallm = kinetica.kineai.KineticaLLM(kinetica_ctx)"
   ]
  },
  {
   "cell_type": "markdown",
   "id": "8338201092efaed6",
   "metadata": {
    "collapsed": false,
    "jupyter": {
     "outputs_hidden": false
    }
   },
   "source": [
    "### Create the context object"
   ]
  },
  {
   "cell_type": "code",
   "execution_count": 11,
   "id": "d76d37e8d142458d",
   "metadata": {
    "ExecuteTime": {
     "end_time": "2024-02-08T18:55:55.306894Z",
     "start_time": "2024-02-08T18:55:55.299879Z"
    },
    "collapsed": false,
    "jupyter": {
     "outputs_hidden": false
    }
   },
   "outputs": [],
   "source": [
    "system = \"\"\" KineticAI is a cheerful AI assistant for engaging in a conversation between an LLM using the Nemo framework and the Kinetica LLM.  The Kinetica\n",
    "LLM is designed to translate natural language questions into SQL queries. \n",
    "\n",
    "In addition to responding with  natural language it is able to ask questions to a database AI named SqlAssist that can query and summarize the logs. \n",
    "If it responds with a \"KineticaLLM |  question\" where question is sent to the SqlAssist AI. The SqlAssist AI will respond with an answer \n",
    "to the question in JSON format to the question made to SqlAssist by KineticAI.\n",
    "\n",
    "when presented with a question, you should prefix your response with \"KineticaLLM |  \"\n",
    "if a sentence ends in a \"?\", you should prefix your response with \"KineticaLLM |  \"\n",
    "\n",
    "Consider the following example where a user asks KineticAI a question and KineticAI asks a followup question to SqlAssist. KineticAI uses the response from \n",
    "SqlAssist to answer the user's question.\n",
    "\n",
    "user: what is the weather like today?\n",
    "assistant: KineticaLLM |  what is the weather like today?\n",
    "user: KineticaLLM |  [{\"EXPR_0\": 5.4}]\n",
    "assistant: The answer is 5.4\n",
    "\"\"\"\n",
    "\n",
    "context0 = [dict(role=\"system\", content=system),\n",
    "            dict(role=\"user\", content=\"what is the weather like today?\"),\n",
    "            dict(role=\"assistant\", content=\"KineticaLLM |  what is the weather like today?\"),\n",
    "            dict(role=\"user\", content=\"how many rows of data are you storing?\"),\n",
    "            dict(role=\"assistant\", content=\"KineticaLLM |  how many rows of data are you storing?\"),\n",
    "            dict(role=\"user\", content=\"what is the average number of telemetry rows per 5 second increment?\"),\n",
    "            dict(role=\"assistant\", content=\"KineticaLLM |  what is the average number of telemetry rows per 5 second increment?\"),\n",
    "            dict(role=\"user\", content=\"find me videos\"),\n",
    "            dict(role=\"assistant\", content=\"KineticaLLM |  find me videos\")]\n",
    "\n",
    "# samples\n"
   ]
  },
  {
   "cell_type": "code",
   "execution_count": 12,
   "id": "57c900bdd2cccbd1",
   "metadata": {
    "ExecuteTime": {
     "end_time": "2024-02-08T18:56:01.630300Z",
     "start_time": "2024-02-08T18:55:56.935275Z"
    },
    "collapsed": false,
    "jupyter": {
     "outputs_hidden": false
    }
   },
   "outputs": [
    {
     "name": "stderr",
     "output_type": "stream",
     "text": [
      "INFO:NemoChatLLM:user: KineticaLLM |  [{\"EXPR_0\": 1.077429120258083}] (tokens: 803/3293)\n",
      "INFO:NemoChatLLM:assistant: KineticaLLM |  [{\"EXPR_0\": 1.0774291 (tokens: 900/3196)\n"
     ]
    }
   ],
   "source": [
    "question = 'what is the average velocity along the X axis?'\n",
    "response = kineticallm.chat(context0, question)"
   ]
  },
  {
   "cell_type": "code",
   "execution_count": null,
   "id": "7c670fd5-28ab-4e75-8a90-9e337755cbda",
   "metadata": {},
   "outputs": [],
   "source": []
  }
 ],
 "metadata": {
  "kernelspec": {
   "display_name": "Python 3 (ipykernel)",
   "language": "python",
   "name": "python3"
  },
  "language_info": {
   "codemirror_mode": {
    "name": "ipython",
    "version": 3
   },
   "file_extension": ".py",
   "mimetype": "text/x-python",
   "name": "python",
   "nbconvert_exporter": "python",
   "pygments_lexer": "ipython3",
   "version": "3.10.13"
  }
 },
 "nbformat": 4,
 "nbformat_minor": 5
}
